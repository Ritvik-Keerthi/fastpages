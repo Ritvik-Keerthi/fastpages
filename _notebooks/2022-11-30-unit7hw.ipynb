{
 "cells": [
  {
   "cell_type": "markdown",
   "metadata": {},
   "source": [
    "# Unit 7 Homework + Hacks\n",
    "\n",
    "- toc: true \n",
    "- comments: true\n",
    "- categories: [PBL_Learning]"
   ]
  },
  {
   "cell_type": "code",
   "execution_count": 2,
   "metadata": {
    "vscode": {
     "languageId": "java"
    }
   },
   "outputs": [
    {
     "name": "stdout",
     "output_type": "stream",
     "text": [
      "This is an array list\n"
     ]
    }
   ],
   "source": [
    "\n",
    "// HACK 1\n",
    "// Create an arrayList and use one of the cool methods for it\n",
    "\n",
    "import java.util.ArrayList; \n",
    "\n",
    "public class hack1 {\n",
    "    public static void main (String[] args) {\n",
    "       ArrayList<Boolean> asdf = new ArrayList();\n",
    "       asdf.add(true);\n",
    "       asdf.add(false);\n",
    "       array(asdf);\n",
    "    }\n",
    "    public static void array(ArrayList arr){\n",
    "        if (arr.size()>0){\n",
    "            arr.set(0, \"This is an array list\");\n",
    "            System.out.println(arr.get(0));\n",
    "        }\n",
    "    }\n",
    "}\n",
    "\n",
    "hack1.main(null);"
   ]
  },
  {
   "cell_type": "code",
   "execution_count": 7,
   "metadata": {
    "vscode": {
     "languageId": "java"
    }
   },
   "outputs": [
    {
     "name": "stdout",
     "output_type": "stream",
     "text": [
      "[green box, blue water]\n"
     ]
    }
   ],
   "source": [
    "// Hack 2\n",
    "import java.util.ArrayList;\n",
    "\n",
    "ArrayList<String> color = new ArrayList<String>(); \n",
    "color.add(\"red apple\");\n",
    "color.add(\"green box\");\n",
    "color.add(\"blue water\");\n",
    "color.add(\"red panda\");\n",
    "\n",
    "for(int i = 0; i < color.size(); i++) {\n",
    "    if(color.get(i).contains(\"red\")){\n",
    "        color.remove(i);\n",
    "    }\n",
    "}\n",
    "\n",
    "System.out.println(color);\n",
    "/*/ \n",
    "using \n",
    "\n",
    "if(color.get(i).contains(\"red\"))\n",
    "\n",
    "iterate through the arraylist and remove all elements that contain the word red in them\n",
    "/*/"
   ]
  },
  {
   "cell_type": "code",
   "execution_count": 8,
   "metadata": {
    "vscode": {
     "languageId": "java"
    }
   },
   "outputs": [
    {
     "ename": "CompilationException",
     "evalue": "",
     "output_type": "error",
     "traceback": [
      "\u001b[1m\u001b[30m|   \u001b[1m\u001b[30mint a = \u001b[0m\u001b[1m\u001b[30m\u001b[41mnum.add(5)\u001b[0m\u001b[1m\u001b[30m;\u001b[0m",
      "\u001b[1m\u001b[31mincompatible types: boolean cannot be converted to int\u001b[0m",
      ""
     ]
    }
   ],
   "source": [
    "// Hack 3\n",
    "\n",
    "// find the sum of the elements in the arraylist\n",
    "\n",
    "ArrayList<Integer> num = new ArrayList<Integer>(); \n",
    "\n",
    "num.add(5);\n",
    "num.add(1);\n",
    "num.add(3);\n",
    "\n",
    "int a = num.get(0);\n",
    "int b = num.get(1);\n",
    "int c = num.get(2);\n",
    "\n",
    "int sum = a + b + c;\n",
    "System.out.println(sum);"
   ]
  }
 ],
 "metadata": {
  "kernelspec": {
   "display_name": "Java",
   "language": "java",
   "name": "java"
  },
  "language_info": {
   "codemirror_mode": "java",
   "file_extension": ".jshell",
   "mimetype": "text/x-java-source",
   "name": "Java",
   "pygments_lexer": "java",
   "version": "17.0.5+8-Ubuntu-2ubuntu120.04"
  },
  "orig_nbformat": 4
 },
 "nbformat": 4,
 "nbformat_minor": 2
}
