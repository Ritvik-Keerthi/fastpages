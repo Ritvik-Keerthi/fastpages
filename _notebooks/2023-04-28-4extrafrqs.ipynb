{
 "cells": [
  {
   "cell_type": "code",
   "execution_count": 3,
   "metadata": {
    "vscode": {
     "languageId": "java"
    }
   },
   "outputs": [
    {
     "ename": "CompilationException",
     "evalue": "",
     "output_type": "error",
     "traceback": [
      "\u001b[1m\u001b[30m|   \u001b[1m\u001b[30m        \u001b[0m\u001b[1m\u001b[30m\u001b[41mgetNewRating\u001b[0m\u001b[1m\u001b[30m = 0;\u001b[0m",
      "\u001b[1m\u001b[31mcannot find symbol\u001b[0m",
      "\u001b[1m\u001b[31m  symbol:   variable getNewRating\u001b[0m",
      "",
      "\u001b[1m\u001b[30m|   \u001b[1m\u001b[30m    public double getNewRating() \u001b[0m\u001b[1m\u001b[30m\u001b[41m{\u001b[0m",
      "\u001b[1m\u001b[30m|   \u001b[1m\u001b[30m\u001b[41m        getNewRating = 0;\u001b[0m",
      "\u001b[1m\u001b[30m|   \u001b[1m\u001b[30m\u001b[41m    }\u001b[0m",
      "\u001b[1m\u001b[31mmissing return statement\u001b[0m",
      ""
     ]
    }
   ],
   "source": [
    "// 2020 Practice FRQ #1\n",
    "public class Hailstone {\n",
    "    public static int hailstoneLength(int n) {\n",
    "        int length = 1;  // start with n\n",
    "        while (n != 1) {\n",
    "            if (n % 2 == 0) {\n",
    "                n = n / 2;\n",
    "            } else {\n",
    "                n = 3 * n + 1;\n",
    "            }\n",
    "            length++;\n",
    "        }\n",
    "        return length;\n",
    "    }\n",
    "    \n",
    "    public static boolean isLongSeq(int n) {\n",
    "        int length = hailstoneLength(n);\n",
    "        return length > n;\n",
    "    }\n",
    "    \n",
    "    public static double propLong(int n) {\n",
    "        int count = 0;\n",
    "        for (int i = 1; i <= n; i++) {\n",
    "            if (isLongSeq(i)) {\n",
    "                count++;\n",
    "            }\n",
    "        }\n",
    "        return (double) count / n;\n",
    "    }\n",
    "    \n",
    "    public static void main(String[] args) {\n",
    "        // Test hailstoneLength method\n",
    "        System.out.println(\"hailstoneLength(5): \" + Hailstone.hailstoneLength(5)); // expected output: 6\n",
    "        System.out.println(\"hailstoneLength(8): \" + Hailstone.hailstoneLength(8)); // expected output: 4\n",
    "        \n",
    "        // Test isLongSeq method\n",
    "        System.out.println(\"isLongSeq(5): \" + Hailstone.isLongSeq(5)); // expected output: true\n",
    "        System.out.println(\"isLongSeq(8): \" + Hailstone.isLongSeq(8)); // expected output: false\n",
    "        \n",
    "        // Test propLong method\n",
    "        System.out.println(\"propLong(10): \" + Hailstone.propLong(10)); // expected output: 0.4\n",
    "        System.out.println(\"propLong(20): \" + Hailstone.propLong(20)); // expected output: 0.45\n",
    "    }\n",
    "}\n",
    "\n",
    "\n",
    "Hailstone.main(null);"
   ]
  },
  {
   "cell_type": "code",
   "execution_count": 6,
   "metadata": {
    "vscode": {
     "languageId": "java"
    }
   },
   "outputs": [
    {
     "name": "stdout",
     "output_type": "stream",
     "text": [
      "Current Stop 1\n",
      "Current Stop 2\n",
      "Current Stop 3\n",
      "Current Stop 2\n",
      "Current Stop 1\n",
      "Current Stop 2\n",
      "Current Stop 2\n",
      "Current Stop 1\n"
     ]
    }
   ],
   "source": [
    "// FRQ 2 Classes\n",
    "\n",
    "public class Bus {\n",
    "    private int currentStop;\n",
    "    private int lastStop;\n",
    "    private int direction;\n",
    "\n",
    "    public Bus(int numStops) {\n",
    "        currentStop = 1;\n",
    "        lastStop = numStops;\n",
    "        direction = 1;\n",
    "    }\n",
    "\n",
    "    public int getCurrentStop() {\n",
    "        return currentStop;\n",
    "    }\n",
    "\n",
    "    public void move() {\n",
    "        if (currentStop == 1) {\n",
    "            direction = 1;\n",
    "        } else if (currentStop == lastStop) {\n",
    "            direction = -1;\n",
    "        }\n",
    "        currentStop += direction;\n",
    "    }\n",
    "\n",
    "    // Tester method\n",
    "    public static void main(String[] args) {\n",
    "        Bus bus1 = new Bus(3);\n",
    "        System.out.println(\"Current Stop \" + bus1.getCurrentStop()); // 1\n",
    "        bus1.move();\n",
    "        System.out.println(\"Current Stop \" + bus1.getCurrentStop()); // 2\n",
    "        bus1.move();\n",
    "        System.out.println(\"Current Stop \" + bus1.getCurrentStop()); // 3\n",
    "        bus1.move();\n",
    "        System.out.println(\"Current Stop \" + bus1.getCurrentStop()); // 2\n",
    "        bus1.move();\n",
    "        System.out.println(\"Current Stop \" + bus1.getCurrentStop()); // 1\n",
    "        bus1.move();\n",
    "        System.out.println(\"Current Stop \" + bus1.getCurrentStop()); // 2\n",
    "        System.out.println(\"Current Stop \" + bus1.getCurrentStop()); // 2 (still at stop 2)\n",
    "        \n",
    "        Bus bus2 = new Bus(5);\n",
    "        System.out.println(\"Current Stop \" + bus2.getCurrentStop()); // 1\n",
    "    }\n",
    "}\n",
    "Bus.main(null);"
   ]
  },
  {
   "cell_type": "code",
   "execution_count": 7,
   "metadata": {
    "vscode": {
     "languageId": "java"
    }
   },
   "outputs": [
    {
     "ename": "CompilationException",
     "evalue": "",
     "output_type": "error",
     "traceback": [
      "\u001b[1m\u001b[30m|   \u001b[1m\u001b[30m// FRQ 1 Arrays, ArrayLists\u001b[0m",
      "\u001b[1m\u001b[30m|   \u001b[1m\u001b[30m\u001b[0m",
      "\u001b[1m\u001b[30m|   \u001b[1m\u001b[30mpublic class ClubMembers {\u001b[0m",
      "\u001b[1m\u001b[30m|   \u001b[1m\u001b[30m    private ArrayList<MemberInfo> memberList;\u001b[0m",
      "\u001b[1m\u001b[30m|   \u001b[1m\u001b[30m\u001b[0m",
      "\u001b[1m\u001b[30m|   \u001b[1m\u001b[30m    public ClubMembers() {\u001b[0m",
      "\u001b[1m\u001b[30m|   \u001b[1m\u001b[30m        memberList = new ArrayList<MemberInfo>();\u001b[0m",
      "\u001b[1m\u001b[30m|   \u001b[1m\u001b[30m    }\u001b[0m",
      "\u001b[1m\u001b[30m|   \u001b[1m\u001b[30m\u001b[0m",
      "\u001b[1m\u001b[30m|   \u001b[1m\u001b[30m    /** Adds new club members to memberList, as described in part (a).\u001b[0m",
      "\u001b[1m\u001b[30m|   \u001b[1m\u001b[30m     * Precondition: names is a non-empty array.\u001b[0m",
      "\u001b[1m\u001b[30m|   \u001b[1m\u001b[30m     */\u001b[0m",
      "\u001b[1m\u001b[30m|   \u001b[1m\u001b[30m    public void addMembers(String[] names, int gradYear) {\u001b[0m",
      "\u001b[1m\u001b[30m|   \u001b[1m\u001b[30m        for (String name : names) {\u001b[0m",
      "\u001b[1m\u001b[30m|   \u001b[1m\u001b[30m            memberList.add(new MemberInfo(name, gradYear, true));\u001b[0m",
      "\u001b[1m\u001b[30m|   \u001b[1m\u001b[30m        }\u001b[0m",
      "\u001b[1m\u001b[30m|   \u001b[1m\u001b[30m    }\u001b[0m",
      "\u001b[1m\u001b[30m|   \u001b[1m\u001b[30m\u001b[0m",
      "\u001b[1m\u001b[30m|   \u001b[1m\u001b[30m    /** Removes members who have graduated and returns a list of\u001b[0m",
      "\u001b[1m\u001b[30m|   \u001b[1m\u001b[30m     * members who have graduated and are in good standing,\u001b[0m",
      "\u001b[1m\u001b[30m|   \u001b[1m\u001b[30m     * as described in part (b).\u001b[0m",
      "\u001b[1m\u001b[30m|   \u001b[1m\u001b[30m     */\u001b[0m",
      "\u001b[1m\u001b[30m|   \u001b[1m\u001b[30m    public ArrayList<MemberInfo> removeMembers(int year) {\u001b[0m",
      "\u001b[1m\u001b[30m|   \u001b[1m\u001b[30m        ArrayList<MemberInfo> removedMembers = new ArrayList<MemberInfo>();\u001b[0m",
      "\u001b[1m\u001b[30m|   \u001b[1m\u001b[30m        Iterator<MemberInfo> iterator = memberList.iterator();\u001b[0m",
      "\u001b[1m\u001b[30m|   \u001b[1m\u001b[30m        while (iterator.hasNext()) {\u001b[0m",
      "\u001b[1m\u001b[30m|   \u001b[1m\u001b[30m            MemberInfo member = iterator.next();\u001b[0m",
      "\u001b[1m\u001b[30m|   \u001b[1m\u001b[30m            if (member.getGradYear() <= year && member.inGoodStanding()) {\u001b[0m",
      "\u001b[1m\u001b[30m|   \u001b[1m\u001b[30m                removedMembers.add(member);\u001b[0m",
      "\u001b[1m\u001b[30m|   \u001b[1m\u001b[30m                iterator.remove();\u001b[0m",
      "\u001b[1m\u001b[30m|   \u001b[1m\u001b[30m            }\u001b[0m",
      "\u001b[1m\u001b[30m|   \u001b[1m\u001b[30m        }\u001b[0m",
      "\u001b[1m\u001b[30m|   \u001b[1m\u001b[30m        return removedMembers;\u001b[0m",
      "\u001b[1m\u001b[30m|   \u001b[1m\u001b[30m    }\u001b[0m",
      "\u001b[1m\u001b[30m|   \u001b[1m\u001b[30m}\u001b[0m",
      "\u001b[1m\u001b[31mUnresolved dependencies:\u001b[0m",
      "\u001b[1m\u001b[31m   - class MemberInfo\u001b[0m"
     ]
    }
   ],
   "source": []
  },
  {
   "cell_type": "code",
   "execution_count": 8,
   "metadata": {
    "vscode": {
     "languageId": "java"
    }
   },
   "outputs": [
    {
     "name": "stdout",
     "output_type": "stream",
     "text": [
      "5\n",
      "dogs\n",
      "toys\n",
      "sun\n",
      "plants\n",
      "time\n"
     ]
    }
   ],
   "source": [
    "// FRQ 5 Arrays, ArrayLists\n",
    "import java.util.ArrayList;\n",
    "\n",
    "public class Vocab {\n",
    "    /** The controlled vocabulary for a Vocab object. */\n",
    "    private String[] theVocab = { /* contents not shown */ };\n",
    "    \n",
    "    /** \n",
    "     * Searches for a string in theVocab. \n",
    "     * Returns true if its String parameter str is an exact match to an element in theVocab \n",
    "     * and returns false otherwise.\n",
    "     */\n",
    "    public boolean findWord(String str) {\n",
    "        for (String s : theVocab) {\n",
    "            if (s.equals(str)) {\n",
    "                return true;\n",
    "            }\n",
    "        }\n",
    "        return false;\n",
    "    }\n",
    "    \n",
    "    /** \n",
    "     * Counts how many strings in wordArray are not found in theVocab.\n",
    "     */\n",
    "    public int countNotInVocab(String[] wordArray) {\n",
    "        int count = 0;\n",
    "        for (String word : wordArray) {\n",
    "            if (!findWord(word)) {\n",
    "                count++;\n",
    "            }\n",
    "        }\n",
    "        return count;\n",
    "    }\n",
    "    \n",
    "    /** \n",
    "     * Returns an array containing strings from wordArray not found in theVocab.\n",
    "     */\n",
    "    public String[] notInVocab(String[] wordArray) {\n",
    "        ArrayList<String> notFound = new ArrayList<>();\n",
    "        for (String word : wordArray) {\n",
    "            if (!findWord(word)) {\n",
    "                notFound.add(word);\n",
    "            }\n",
    "        }\n",
    "        String[] result = new String[notFound.size()];\n",
    "        for (int i = 0; i < notFound.size(); i++) {\n",
    "            result[i] = notFound.get(i);\n",
    "        }\n",
    "        return result;\n",
    "    }\n",
    "    \n",
    "    /** \n",
    "     * Tester method for the Vocab class.\n",
    "     */\n",
    "    public static void main(String[] args) {\n",
    "        Vocab vocab = new Vocab();\n",
    "        \n",
    "        // Test countNotInVocab\n",
    "        String[] testArray1 = {\"dogs\", \"toys\", \"sun\", \"plants\", \"time\"};\n",
    "        System.out.println(vocab.countNotInVocab(testArray1)); // expected output: 2\n",
    "        \n",
    "        // Test notInVocab\n",
    "        String[] testArray2 = {\"dogs\", \"toys\", \"sun\", \"plants\", \"time\"};\n",
    "        String[] result = vocab.notInVocab(testArray2);\n",
    "        for (String s : result) {\n",
    "            System.out.println(s);\n",
    "        }\n",
    "        // expected output: \"toys\" \"sun\"\n",
    "    }\n",
    "}\n",
    "Vocab.main(null);"
   ]
  }
 ],
 "metadata": {
  "kernelspec": {
   "display_name": "Java",
   "language": "java",
   "name": "java"
  },
  "language_info": {
   "codemirror_mode": "java",
   "file_extension": ".jshell",
   "mimetype": "text/x-java-source",
   "name": "Java",
   "pygments_lexer": "java",
   "version": "17.0.5+8-Ubuntu-2ubuntu120.04"
  },
  "orig_nbformat": 4
 },
 "nbformat": 4,
 "nbformat_minor": 2
}
