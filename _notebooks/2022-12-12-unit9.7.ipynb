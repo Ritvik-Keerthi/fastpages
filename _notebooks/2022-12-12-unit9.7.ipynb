{
 "cells": [
  {
   "attachments": {},
   "cell_type": "markdown",
   "metadata": {},
   "source": [
    "# 9.7 Object Superclass\n",
    "\n",
    "Important Things to Know\n",
    "- Object class is the superclass of all other classes in Java\n",
    "- Object is part of the java.lang package (know for imports)\n",
    "- Important Object class methods include: boolean equals(Object x) & String toString()\n",
    "- Object class' subclasses override the equals and toString methods\n",
    "\n"
   ]
  },
  {
   "cell_type": "code",
   "execution_count": null,
   "metadata": {},
   "outputs": [],
   "source": [
    "// Demonstration of toString method\n",
    "\n"
   ]
  },
  {
   "cell_type": "code",
   "execution_count": 10,
   "metadata": {},
   "outputs": [
    {
     "name": "stdout",
     "output_type": "stream",
     "text": [
      "false\n",
      "false\n",
      "true\n",
      "false\n",
      "false\n",
      "true\n"
     ]
    }
   ],
   "source": [
    "// Demonstration of equals method\n",
    "// Outputs boolean value of true or false\n",
    "// If one object equals another\n",
    "public class Student\n",
    "{\n",
    "   private String name;\n",
    "\n",
    "   public Student(String name)\n",
    "   {\n",
    "      this.name = name;\n",
    "   }\n",
    "\n",
    "   public static void main(String[] args)\n",
    "   {\n",
    "      Student student1 = new Student(\"Bob\");\n",
    "      Student student2 = new Student(\"Jeff\");\n",
    "      Student student3 = student1;\n",
    "      Student student4 = new Student(\"A\");\n",
    "      Student student5 = student4;\n",
    "      System.out.println(student1.equals(student2));\n",
    "      System.out.println(student2.equals(student3));\n",
    "      System.out.println(student1.equals(student3));\n",
    "      System.out.println(student3.equals(student4));\n",
    "      System.out.println(student3.equals(student4));\n",
    "      System.out.println(student5.equals(student4));\n",
    "\n",
    "\n",
    "   }\n",
    "}\n",
    "Student.main(null);"
   ]
  }
 ],
 "metadata": {
  "kernelspec": {
   "display_name": "Java",
   "language": "java",
   "name": "java"
  },
  "language_info": {
   "codemirror_mode": "java",
   "file_extension": ".jshell",
   "mimetype": "text/x-java-source",
   "name": "java",
   "pygments_lexer": "java",
   "version": "17.0.5+8-Ubuntu-2ubuntu120.04"
  },
  "orig_nbformat": 4,
  "vscode": {
   "interpreter": {
    "hash": "916dbcbb3f70747c44a77c7bcd40155683ae19c65e1c03b4aa3499c5328201f1"
   }
  }
 },
 "nbformat": 4,
 "nbformat_minor": 2
}
