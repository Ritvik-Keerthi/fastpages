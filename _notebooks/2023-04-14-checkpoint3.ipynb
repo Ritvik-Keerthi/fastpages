{
 "cells": [
  {
   "attachments": {},
   "cell_type": "markdown",
   "metadata": {},
   "source": [
    "# Checkpoint 3 Notes\n",
    "\n",
    "Analyzing Big O Complexity on Sorts\n",
    "\n",
    "Merge Sort: Merge Sort is a stable, comparison-based sorting algorithm with a time complexity of O(n log n) in the worst case. It works by dividing the input array into two halves, sorting each half recursively, and then merging the sorted halves back together.\n",
    "\n",
    "Quick Sort: Quick Sort is a widely used, unstable, comparison-based sorting algorithm with a time complexity of O(n log n) in the average case. It works by selecting a pivot element, partitioning the array into two subarrays based on the pivot, and then recursively sorting the subarrays.\n",
    "\n",
    "Heap Sort: Heap Sort is an unstable, comparison-based sorting algorithm with a time complexity of O(n log n) in the worst case. It works by building a heap data structure from the input array and repeatedly removing the largest element from the heap and adding it to the sorted portion of the array.\n",
    "\n",
    "Radix Sort: Radix Sort is a stable, non-comparison-based sorting algorithm with a time complexity of O(kn), where k is the number of digits or bits in the input data. It works by sorting the input data by individual digits or bits, from least significant to most significant.\n",
    "\n",
    "Counting Sort: Counting Sort is a stable, non-comparison-based sorting algorithm with a time complexity of O(n + k), where k is the range of the input data. It works by counting the number of occurrences of each input element and then reconstructing the sorted array.\n",
    "\n"
   ]
  },
  {
   "cell_type": "code",
   "execution_count": null,
   "metadata": {
    "vscode": {
     "languageId": "java"
    }
   },
   "outputs": [],
   "source": [
    "// Merge Sort\n",
    "\n",
    "import java.util.Arrays;\n",
    "\n",
    "public class MergeSort {\n",
    "    public static void main(String[] args) {\n",
    "        int[] arr = new int[5000];\n",
    "        // Fill the array with random integers\n",
    "        for (int i = 0; i < arr.length; i++) {\n",
    "            arr[i] = (int) (Math.random() * 10000);\n",
    "        }\n",
    "        \n",
    "        System.out.println(\"Before sorting: \" + Arrays.toString(arr));\n",
    "        \n",
    "        // Sort the array using Merge Sort\n",
    "        mergeSort(arr, 0, arr.length - 1);\n",
    "        \n",
    "        System.out.println(\"After sorting: \" + Arrays.toString(arr));\n",
    "    }\n",
    "    \n",
    "    public static void mergeSort(int[] arr, int left, int right) {\n",
    "        if (left < right) {\n",
    "            int mid = (left + right) / 2;\n",
    "            \n",
    "            // Recursively sort each half\n",
    "            mergeSort(arr, left, mid);\n",
    "            mergeSort(arr, mid + 1, right);\n",
    "            \n",
    "            // Merge the sorted halves\n",
    "            int[] temp = new int[arr.length];\n",
    "            int i = left;\n",
    "            int j = mid + 1;\n",
    "            int k = left;\n",
    "            \n",
    "            while (i <= mid && j <= right) {\n",
    "                if (arr[i] < arr[j]) {\n",
    "                    temp[k] = arr[i];\n",
    "                    i++;\n",
    "                } else {\n",
    "                    temp[k] = arr[j];\n",
    "                    j++;\n",
    "                }\n",
    "                k++;\n",
    "            }\n",
    "            \n",
    "            while (i <= mid) {\n",
    "                temp[k] = arr[i];\n",
    "                i++;\n",
    "                k++;\n",
    "            }\n",
    "            \n",
    "            while (j <= right) {\n",
    "                temp[k] = arr[j];\n",
    "                j++;\n",
    "                k++;\n",
    "            }\n",
    "            \n",
    "            for (k = left; k <= right; k++) {\n",
    "                arr[k] = temp[k];\n",
    "            }\n",
    "        }\n",
    "    }\n",
    "}\n"
   ]
  }
 ],
 "metadata": {
  "language_info": {
   "name": "python"
  },
  "orig_nbformat": 4
 },
 "nbformat": 4,
 "nbformat_minor": 2
}
