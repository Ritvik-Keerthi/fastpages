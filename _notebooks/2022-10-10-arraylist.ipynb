{
 "cells": [
  {
   "cell_type": "markdown",
   "metadata": {},
   "source": [
    "# Lists and Array Lists\n",
    "< Documenting key learnings about lists and array lists (Week 7)\n",
    "\n",
    "- toc: true \n",
    "- comments: true\n",
    "- categories: [PBL_Learning]"
   ]
  },
  {
   "cell_type": "code",
   "execution_count": 18,
   "metadata": {},
   "outputs": [
    {
     "name": "stdout",
     "output_type": "stream",
     "text": [
      "[Dumbbell Curls, Barbell Curls, Bench Press, Squats]\n",
      "[Dumbbell Curls, Barbell Curls, Have workout increments of 1 hour for 6 days each week., Bench Press, Squats]\n",
      "5\n",
      "-1964587162\n",
      "true\n",
      "4\n",
      "Bench Press\n",
      "false\n"
     ]
    }
   ],
   "source": [
    "import java.util.ArrayList;\n",
    "\n",
    "public class Main {\n",
    "        //1st ArrayList\n",
    "    public static void main(String[] args){\n",
    "        \n",
    "        ArrayList<String> Prometheus = new ArrayList<String>();\n",
    "        Prometheus.add(\"Dumbbell Curls\");\n",
    "        Prometheus.add(\"Barbell Curls\");\n",
    "        Prometheus.add(\"Bench Press\");\n",
    "        Prometheus.add(\"Squats\");\n",
    "        System.out.println(Prometheus);\n",
    "\n",
    "        //2nd ArrayList\n",
    "        ArrayList<String> Ideas = new ArrayList<String>();\n",
    "        Ideas.add(\"Have workout increments of 1 hour for 6 days each week.\");\n",
    "\n",
    "        Prometheus.addAll(2, Ideas);\n",
    "        System.out.println(Prometheus);\n",
    "\n",
    "        //3rd Array List\n",
    "        int Pome = Prometheus.size();\n",
    "        System.out.println(Pome);\n",
    "\n",
    "        //4th Array List\n",
    "        int Prom = Prometheus.hashCode();\n",
    "        System.out.println(Prom);\n",
    "\n",
    "        //5th Array List\n",
    "        Boolean fitness = Prometheus.contains(\"Dumbbell Curls\");\n",
    "        System.out.println(fitness);\n",
    "\n",
    "        //6th Array List\n",
    "        int Prome = Prometheus.indexOf(\"Squats\");\n",
    "        System.out.println(Prome);\n",
    "\n",
    "        //7th Array List\n",
    "        String Prome2 = Prometheus.get(3);\n",
    "        System.out.println(Prome2);\n",
    "\n",
    "        //8th Array List\n",
    "        Boolean Prome3 = Prometheus.isEmpty();\n",
    "        System.out.println(Prome3);\n",
    "\n",
    "    }\n",
    "\n",
    "\n",
    "}\n",
    "Main.main(null);\n",
    "\n"
   ]
  }
 ],
 "metadata": {
  "kernelspec": {
   "display_name": "Java",
   "language": "java",
   "name": "java"
  },
  "language_info": {
   "codemirror_mode": "java",
   "file_extension": ".jshell",
   "mimetype": "text/x-java-source",
   "name": "java",
   "pygments_lexer": "java",
   "version": "11.0.16+8-post-Ubuntu-0ubuntu120.04"
  },
  "orig_nbformat": 4,
  "vscode": {
   "interpreter": {
    "hash": "916dbcbb3f70747c44a77c7bcd40155683ae19c65e1c03b4aa3499c5328201f1"
   }
  }
 },
 "nbformat": 4,
 "nbformat_minor": 2
}
