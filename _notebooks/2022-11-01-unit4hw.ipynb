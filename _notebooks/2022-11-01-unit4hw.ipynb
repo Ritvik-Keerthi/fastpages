{
 "cells": [
  {
   "cell_type": "markdown",
   "metadata": {},
   "source": [
    "# Unit 3 and 5 HW (Unit 3&5)\n",
    "\n",
    "- toc: true \n",
    "- comments: true\n",
    "- categories: [PBL_Learning]"
   ]
  },
  {
   "cell_type": "code",
   "execution_count": 3,
   "metadata": {
    "vscode": {
     "languageId": "java"
    }
   },
   "outputs": [
    {
     "name": "stdout",
     "output_type": "stream",
     "text": [
      "A number is chosen between 1 to 100.Guess the number within 5 trials.\n",
      "Guess the number:\n"
     ]
    }
   ],
   "source": [
    "import java.util.Scanner;\n",
    " \n",
    "public class GFG {\n",
    " \n",
    "    // Function that implements the\n",
    "    // number guessing game\n",
    "    public static void\n",
    "    guessingNumberGame()\n",
    "    {\n",
    "        // Scanner Class\n",
    "        Scanner sc = new Scanner(System.in);\n",
    " \n",
    "        // Generate the numbers\n",
    "        int number = 1 + (int)(100\n",
    "                               * Math.random());\n",
    " \n",
    "        // Given K trials\n",
    "        int K = 5;\n",
    " \n",
    "        int i, guess;\n",
    " \n",
    "        System.out.println(\n",
    "            \"A number is chosen\"\n",
    "            + \" between 1 to 100.\"\n",
    "            + \"Guess the number\");\n",
    " \n",
    "        // Iterate over K Trials\n",
    "        for (i = 0; i < K; i++) {\n",
    " \n",
    "            System.out.println(\n",
    "                \"Guess the number:\");\n",
    " \n",
    "            // Take input for guessing\n",
    "            guess = sc.nextInt();\n",
    " \n",
    "            if (number == guess) {\n",
    "                System.out.println(\n",
    "                    \"You guessed the number\");\n",
    "                break;\n",
    "            }\n",
    "            else if (number > guess\n",
    "                     && i != K - 1) {\n",
    "                System.out.println(\n",
    "                    \"Wrong number\"  + guess);\n",
    "            }\n",
    "            else if (number < guess\n",
    "                     && i != K - 1) {\n",
    "                System.out.println(\n",
    "                    \"Wrong number\" + guess);\n",
    "            }\n",
    "        }\n",
    "\n",
    "    }\n",
    " \n",
    "    // Driver Code\n",
    "    public static void\n",
    "    main(String arg[])\n",
    "    {\n",
    " \n",
    "        // Function Call\n",
    "        guessingNumberGame();\n",
    "    }\n",
    "}\n",
    "GFG.main(null);"
   ]
  },
  {
   "cell_type": "code",
   "execution_count": null,
   "metadata": {
    "vscode": {
     "languageId": "java"
    }
   },
   "outputs": [],
   "source": []
  }
 ],
 "metadata": {
  "kernelspec": {
   "display_name": "Java",
   "language": "java",
   "name": "java"
  },
  "language_info": {
   "codemirror_mode": "java",
   "file_extension": ".jshell",
   "mimetype": "text/x-java-source",
   "name": "Java",
   "pygments_lexer": "java",
   "version": "11.0.16+8-post-Ubuntu-0ubuntu120.04"
  },
  "orig_nbformat": 4,
  "vscode": {
   "interpreter": {
    "hash": "916dbcbb3f70747c44a77c7bcd40155683ae19c65e1c03b4aa3499c5328201f1"
   }
  }
 },
 "nbformat": 4,
 "nbformat_minor": 2
}
