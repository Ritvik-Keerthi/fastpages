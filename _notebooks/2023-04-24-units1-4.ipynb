{
 "cells": [
  {
   "attachments": {},
   "cell_type": "markdown",
   "metadata": {},
   "source": [
    "# Units 1-4 Hacks"
   ]
  },
  {
   "cell_type": "code",
   "execution_count": 7,
   "metadata": {
    "vscode": {
     "languageId": "java"
    }
   },
   "outputs": [
    {
     "name": "stdout",
     "output_type": "stream",
     "text": [
      "Numbers of wheels on 7 cars is 28 wheels\n"
     ]
    }
   ],
   "source": [
    "// Hack 1\n",
    "\n",
    "public class Hack1 {\n",
    "    public static void main(String[] args) {\n",
    "        \n",
    "        int cars = 7;\n",
    "        int wheels = cars*4;\n",
    "        System.out.println(\"Numbers of wheels on \" + cars + \" cars\" + \" is \" + wheels + \" wheels\");\n",
    "\n",
    "    }\n",
    "}\n",
    "Hack1.main(null);"
   ]
  },
  {
   "cell_type": "code",
   "execution_count": 18,
   "metadata": {
    "vscode": {
     "languageId": "java"
    }
   },
   "outputs": [
    {
     "name": "stdout",
     "output_type": "stream",
     "text": [
      "Make: Toyota\n",
      "Model: Corolla\n",
      "Year: 2022\n",
      "Price: $24999.99\n",
      "Is used: false\n",
      "\n",
      "Make: Honda\n",
      "Model: Accord\n",
      "Year: 2018\n",
      "Price: $18999.99\n",
      "Is used: true\n",
      "\n",
      "Make: Ford\n",
      "Model: Mustang\n",
      "Year: 2020\n",
      "Price: $34999.99\n",
      "Is used: true\n",
      "\n"
     ]
    }
   ],
   "source": [
    "// Hack 2\n",
    "public class Car {\n",
    "    private String make;\n",
    "    private String model;\n",
    "    private int year;\n",
    "    private double price;\n",
    "    private boolean isUsed;\n",
    "    \n",
    "    public Car(String make, String model, int year, double price, boolean isUsed) {\n",
    "        this.make = make;\n",
    "        this.model = model;\n",
    "        this.year = year;\n",
    "        this.price = price;\n",
    "        this.isUsed = isUsed;\n",
    "    }\n",
    "    \n",
    "    \n",
    "   \n",
    "    public void printCarDetails() {\n",
    "        System.out.println(\"Make: \" + make);\n",
    "        System.out.println(\"Model: \" + model);\n",
    "        System.out.println(\"Year: \" + year);\n",
    "        System.out.println(\"Price: $\" + price);\n",
    "        System.out.println(\"Is used: \" + isUsed);\n",
    "        System.out.println();\n",
    "    }\n",
    "    \n",
    "    public static void main(String[] args) {\n",
    "        Car[] cars = new Car[3];\n",
    "        \n",
    "        cars[0] = new Car(\"Toyota\", \"Corolla\", 2022, 24999.99, false);\n",
    "        cars[1] = new Car(\"Honda\", \"Accord\", 2018, 18999.99, true);\n",
    "        cars[2] = new Car(\"Ford\", \"Mustang\", 2020, 34999.99, true);\n",
    "        \n",
    "        for (Car car : cars) {\n",
    "            car.printCarDetails();\n",
    "        }\n",
    "    }\n",
    "}\n",
    "Car.main(null);"
   ]
  },
  {
   "cell_type": "code",
   "execution_count": 20,
   "metadata": {
    "vscode": {
     "languageId": "java"
    }
   },
   "outputs": [
    {
     "name": "stdout",
     "output_type": "stream",
     "text": [
      "Make: Toyota\n",
      "Model: Camry\n",
      "Year: 2019\n",
      "Price: 25000.0\n",
      "The car is not affordable within a budget of $20000.\n",
      "The car is an affordable car.\n"
     ]
    }
   ],
   "source": [
    "//Hack 3\n",
    "\n",
    "public class Car {\n",
    "    private String make;\n",
    "    private String model;\n",
    "    private int year;\n",
    "    private double price;\n",
    "\n",
    "    public Car(String make, String model, int year, double price) {\n",
    "        this.make = make;\n",
    "        this.model = model;\n",
    "        this.year = year;\n",
    "        this.price = price;\n",
    "    }\n",
    "\n",
    "    public String getMake() {\n",
    "        return make;\n",
    "    }\n",
    "\n",
    "    public String getModel() {\n",
    "        return model;\n",
    "    }\n",
    "\n",
    "    public int getYear() {\n",
    "        return year;\n",
    "    }\n",
    "\n",
    "    public double getPrice() {\n",
    "        return price;\n",
    "    }\n",
    "\n",
    "    public boolean isAffordable(double budget) {\n",
    "        return price <= budget;\n",
    "    }\n",
    "\n",
    "    public static void main(String[] args) {\n",
    "        Car myCar = new Car(\"Toyota\", \"Camry\", 2019, 25000.0);\n",
    "        System.out.println(\"Make: \" + myCar.getMake());\n",
    "        System.out.println(\"Model: \" + myCar.getModel());\n",
    "        System.out.println(\"Year: \" + myCar.getYear());\n",
    "        System.out.println(\"Price: \" + myCar.getPrice());\n",
    "\n",
    "        if (myCar.isAffordable(20000)) {\n",
    "            System.out.println(\"The car is affordable.\");\n",
    "        } else {\n",
    "            System.out.println(\"The car is not affordable within a budget of $20000.\");\n",
    "        }\n",
    "\n",
    "        if (myCar.getPrice() > 50000) {\n",
    "            System.out.println(\"The car is a luxury car.\");\n",
    "        } else if (myCar.getPrice() > 30000) {\n",
    "            System.out.println(\"The car is a mid-range car.\");\n",
    "        } else {\n",
    "            System.out.println(\"The car is an affordable car.\");\n",
    "        }\n",
    "    }\n",
    "}\n",
    "Car.main(null);"
   ]
  },
  {
   "cell_type": "code",
   "execution_count": null,
   "metadata": {
    "vscode": {
     "languageId": "java"
    }
   },
   "outputs": [],
   "source": [
    "//Hack 4 (do not run it runs forever)\n",
    "\n",
    "import java.util.Scanner;\n",
    "\n",
    "public class CarList {\n",
    "    public static void main(String[] args) {\n",
    "        Scanner scanner = new Scanner(System.in);\n",
    "        int numCars = 0;\n",
    "\n",
    "        while (numCars <= 0) {\n",
    "            try {\n",
    "                System.out.print(\"Enter the number of cars you own: \");\n",
    "                numCars = scanner.nextInt();\n",
    "                if (numCars <= 0) {\n",
    "                    System.out.println(\"Please enter a positive integer.\");\n",
    "                }\n",
    "            } catch (Exception e) {\n",
    "                System.out.println(\"Invalid input. Please enter a positive integer.\");\n",
    "                scanner.next(); // clear scanner buffer\n",
    "            }\n",
    "        }\n",
    "\n",
    "        String[] makes = new String[numCars];\n",
    "        String[] models = new String[numCars];\n",
    "\n",
    "        for (int i = 0; i < numCars; i++) {\n",
    "            System.out.println(\"Car \" + (i + 1) + \":\");\n",
    "            System.out.print(\"Make: \");\n",
    "            makes[i] = scanner.next();\n",
    "            System.out.print(\"Model: \");\n",
    "            models[i] = scanner.next();\n",
    "        }\n",
    "\n",
    "        System.out.println(\"Your cars:\");\n",
    "        for (int i = 0; i < numCars; i++) {\n",
    "            System.out.println((i + 1) + \". \" + makes[i] + \" \" + models[i]);\n",
    "        }\n",
    "\n",
    "        scanner.close();\n",
    "    }\n",
    "}\n"
   ]
  }
 ],
 "metadata": {
  "kernelspec": {
   "display_name": "Java",
   "language": "java",
   "name": "java"
  },
  "language_info": {
   "codemirror_mode": "java",
   "file_extension": ".jshell",
   "mimetype": "text/x-java-source",
   "name": "Java",
   "pygments_lexer": "java",
   "version": "17.0.5+8-Ubuntu-2ubuntu120.04"
  },
  "orig_nbformat": 4
 },
 "nbformat": 4,
 "nbformat_minor": 2
}
