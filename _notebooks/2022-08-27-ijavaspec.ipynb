{
 "cells": [
  {
   "cell_type": "markdown",
   "metadata": {},
   "source": [
    "# IJava Notebook- Learning About Primitives\n",
    "> Notebook describing learning about primitives.\n",
    "\n",
    "- toc: true \n",
    "- badges: true\n",
    "- comments: true\n",
    "- categories: [jupyter]"
   ]
  },
  {
   "cell_type": "markdown",
   "metadata": {},
   "source": [
    "Here are some key learnings about Primitives. \n"
   ]
  },
  {
   "cell_type": "code",
   "execution_count": 2,
   "metadata": {
    "vscode": {
     "languageId": "shellscript"
    }
   },
   "outputs": [
    {
     "name": "stdout",
     "output_type": "stream",
     "text": [
      "\u001b[0m\u001b[01;34manaconda3\u001b[0m  \u001b[01;34mvscode\u001b[0m\n",
      "Clearly, anaconda3 is installed here\n",
      "\u001b[0m\u001b[01;34mbin\u001b[0m\n",
      "Clearly, conda is installed here\n"
     ]
    }
   ],
   "source": [
    "cd ~\n",
    "ls\n",
    "echo \"Clearly, anaconda3 is installed here\"\n",
    "cd anaconda3/\n",
    "echo \"Here is conda on the right, now cding into that directory\"\n",
    "ls \n",
    "cd x86_64-conda-linux-gnu/\n",
    "ls\n",
    "echo \"Clearly, conda is installed here\"\n"
   ]
  },
  {
   "cell_type": "code",
   "execution_count": 1,
   "metadata": {
    "vscode": {
     "languageId": "shellscript"
    }
   },
   
 ],
 "metadata": {
  "kernelspec": {
   "display_name": "IJava",
   "language": "ijava",
   "name": "ijava"
  },
  "language_info": {
   "codemirror_mode": "shell",
   "file_extension": ".sh",
   "mimetype": "text/x-sh",
   "name": "ijava"
  },
  "orig_nbformat": 4,
  "vscode": {
   "interpreter": {
    "hash": "916dbcbb3f70747c44a77c7bcd40155683ae19c65e1c03b4aa3499c5328201f1"
   }
  }
 },
 "nbformat": 4,
 "nbformat_minor": 2
}
