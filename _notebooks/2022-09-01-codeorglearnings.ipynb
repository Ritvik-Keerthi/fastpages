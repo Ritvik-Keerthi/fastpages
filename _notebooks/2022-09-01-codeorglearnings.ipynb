{
 "cells": [
  {
   "cell_type": "markdown",
   "metadata": {},
   "source": [
    "# Code.org Key Learnings\n",
    "< Documenting key learnings about Code.org code (Week 2)\n",
    "\n",
    "- toc: true \n",
    "- comments: true\n",
    "- categories: [PBL_Learning]"
   ]
  },
  {
   "cell_type": "markdown",
   "metadata": {},
   "source": [
    "Creating and Using Objects\n",
    "\n",
    "- Class provides the blueprint for all objects (objects are created from the class)\n",
    "\n",
    "- There are three parts of creating an object: Declaration, Instantiation, and Initialization. \n",
    "\n",
    "- You can also declare a reference variable on its own line to refer to an object. \n",
    "\n",
    "![image](https://user-images.githubusercontent.com/89219486/187961426-1097bf57-8bbd-48e1-b60c-4318e98f6f2b.png)\n",
    "\n"
   ]
  },
  {
   "cell_type": "markdown",
   "metadata": {},
   "source": [
    "Extending Objects\n",
    "\n",
    "- Usually involved inheriting another object within classes and subclasses. \n",
    "\n",
    "- syntax: \"class childclass extends parentclass\"\n",
    "- syntax: \"class parentclass extends in-built-object\"\n",
    "\n",
    "- You can also extend two objects at once/.\n",
    "\n",
    "![image](https://user-images.githubusercontent.com/89219486/187962118-fed5ac12-6f3e-48c1-9d27-c6f38fd54121.png)\n"
   ]
  }
 ],
 "metadata": {
  "kernelspec": {
   "display_name": "Python 3.9.12 64-bit",
   "language": "python",
   "name": "python3"
  },
  "language_info": {
   "name": "python",
   "version": "3.9.12"
  },
  "orig_nbformat": 4,
  "vscode": {
   "interpreter": {
    "hash": "fb8e050f892331463e6bdd759678ed067c2813c11523a14e17d2b68f5cee5a91"
   }
  }
 },
 "nbformat": 4,
 "nbformat_minor": 2
}
