{
 "cells": [
  {
   "cell_type": "markdown",
   "metadata": {},
   "source": [
    "# If Else Expressions Blog\n",
    "> A simple blog containing information concerning If and Else Statements, with DeMorgan's law.\n",
    "\n",
    "- toc: true \n",
    "- badges: true\n",
    "- comments: true\n",
    "- categories: [PBL_Learning]\n",
    "- author: Ritvik"
   ]
  },
  {
   "cell_type": "markdown",
   "metadata": {},
   "source": [
    "# Explaining If, If-Else, and If-ElseIf-Else\n",
    "\n",
    "- What is an if statement?\n",
    "\n",
    "\n",
    "The IF statement is a decision-making statement that guides a program to make decisions based on specified criteria. The IF statement executes one set of code if a specified condition is met (TRUE) or another set of code evaluates to FALSE\n",
    "\n",
    "- What is an if-else statement?\n",
    "\n",
    "\n",
    "The if/else statement executes a block of code if a specified condition is true. If the condition is false, another block of code can be executed.\n",
    "\n",
    "- What is an if-elseif-else\n",
    "\n",
    "\n",
    "It's the same thing as an if-else statement, however you can continue with the elses as different cases that execute different segments of programs. "
   ]
  },
  {
   "cell_type": "code",
   "execution_count": null,
   "metadata": {
    "vscode": {
     "languageId": "java"
    }
   },
   "outputs": [],
   "source": [
    "int x = 25;\n",
    "if (x>=27) {\n",
    "    print(\"This works\") //One case if statement is true\n",
    "} else {\n",
    "    print(\"This doesn't work sadly\") //Showing different case\n",
    "}"
   ]
  },
  {
   "cell_type": "markdown",
   "metadata": {},
   "source": [
    "# De Morgan's Law\n",
    "\n",
    "- What is De Morgan's Law?\n",
    "\n",
    "The complement of the union of two sets is the intersection of their complements and the complement of the intersection of two sets is the union of their complements. \n",
    "\n",
    "In simple terms, De Morgan's laws talk about how mathematical statements are related through their opposites. \n"
   ]
  },
  {
   "cell_type": "code",
   "execution_count": null,
   "metadata": {
    "vscode": {
     "languageId": "java"
    }
   },
   "outputs": [],
   "source": [
    "if (true) {\n",
    "    System.out.println(\"True code block\");\n",
    "}\n",
    "\n",
    "if (true && !false) {\n",
    "    System.out.println(\"True and Not False code block\");\n",
    "}\n",
    "\n",
    "if (true || false) {\n",
    "    System.out.println(\"True or False code block\");\n",
    "}\n",
    "\n",
    "if ((true && !false) && (true || false)) {\n",
    "    System.out.println(\"Confusing code block\");\n",
    "}\n",
    "\n",
    "if (!((false || !true) || (false && true))) {\n",
    "    System.out.println(\"De Morgan's law in my head of confusing code block\");\n",
    "}\n",
    "\n",
    "//All these code segments can be reduced to the very first code segment. There are different ways of utilizing these types of logical operators in order for a program to run. \n"
   ]
  }
 ],
 "metadata": {
  "kernelspec": {
   "display_name": "Java",
   "language": "java",
   "name": "java"
  },
  "language_info": {
   "codemirror_mode": "java",
   "file_extension": ".jshell",
   "mimetype": "text/x-java-source",
   "name": "Java",
   "pygments_lexer": "java",
   "version": "11.0.16+8-post-Ubuntu-0ubuntu120.04"
  },
  "orig_nbformat": 4,
  "vscode": {
   "interpreter": {
    "hash": "916dbcbb3f70747c44a77c7bcd40155683ae19c65e1c03b4aa3499c5328201f1"
   }
  }
 },
 "nbformat": 4,
 "nbformat_minor": 2
}
