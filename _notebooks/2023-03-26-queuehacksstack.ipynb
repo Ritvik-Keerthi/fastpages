{
 "cells": [
  {
   "cell_type": "markdown",
   "metadata": {},
   "source": [
    "# Checkpoint 2 Code + Notes"
   ]
  },
  {
   "cell_type": "code",
   "execution_count": 1,
   "metadata": {
    "vscode": {
     "languageId": "java"
    }
   },
   "outputs": [
    {
     "name": "stdout",
     "output_type": "stream",
     "text": [
      "Enqueued data: seven\n",
      "Words count: 1, data: seven\n",
      "\n",
      "Enqueued data: slimy\n",
      "Words count: 2, data: seven slimy\n",
      "\n",
      "Enqueued data: snakes\n",
      "Words count: 3, data: seven slimy snakes\n",
      "\n",
      "Enqueued data: sallying\n",
      "Words count: 4, data: seven slimy snakes sallying\n",
      "\n",
      "Enqueued data: slowly\n",
      "Words count: 5, data: seven slimy snakes sallying slowly\n",
      "\n",
      "Enqueued data: slithered\n",
      "Words count: 6, data: seven slimy snakes sallying slowly slithered\n",
      "\n",
      "Enqueued data: southward\n",
      "Words count: 7, data: seven slimy snakes sallying slowly slithered southward\n",
      "\n",
      "Dequeued data: seven\n",
      "Words count: 6, data: slimy snakes sallying slowly slithered southward\n",
      "\n",
      "Dequeued data: slimy\n",
      "Words count: 5, data: snakes sallying slowly slithered southward\n",
      "\n",
      "Dequeued data: snakes\n",
      "Words count: 4, data: sallying slowly slithered southward\n",
      "\n",
      "Dequeued data: sallying\n",
      "Words count: 3, data: slowly slithered southward\n",
      "\n",
      "Dequeued data: slowly\n",
      "Words count: 2, data: slithered southward\n",
      "\n",
      "Dequeued data: slithered\n",
      "Words count: 1, data: southward\n",
      "\n",
      "Dequeued data: southward\n",
      "Words count: 0, data: \n",
      "\n"
     ]
    }
   ],
   "source": [
    "//Hack 1\n",
    "\n",
    "public class QueueExample {\n",
    "    public static void main(String[] args) {\n",
    "        Queue<String> queue = new LinkedList<String>();\n",
    "\n",
    "        // Adding elements to the queue\n",
    "        queue.add(\"seven\");\n",
    "        System.out.println(\"Enqueued data: \" + \"seven\");\n",
    "        printQueue(queue);\n",
    "\n",
    "        queue.add(\"slimy\");\n",
    "        System.out.println(\"Enqueued data: \" + \"slimy\");\n",
    "        printQueue(queue);\n",
    "\n",
    "        queue.add(\"snakes\");\n",
    "        System.out.println(\"Enqueued data: \" + \"snakes\");\n",
    "        printQueue(queue);\n",
    "\n",
    "        queue.add(\"sallying\");\n",
    "        System.out.println(\"Enqueued data: \" + \"sallying\");\n",
    "        printQueue(queue);\n",
    "\n",
    "        queue.add(\"slowly\");\n",
    "        System.out.println(\"Enqueued data: \" + \"slowly\");\n",
    "        printQueue(queue);\n",
    "\n",
    "        queue.add(\"slithered\");\n",
    "        System.out.println(\"Enqueued data: \" + \"slithered\");\n",
    "        printQueue(queue);\n",
    "\n",
    "        queue.add(\"southward\");\n",
    "        System.out.println(\"Enqueued data: \" + \"southward\");\n",
    "        printQueue(queue);\n",
    "\n",
    "        // Removing elements from the queue\n",
    "        String data =queue.remove();\n",
    "\n",
    "        System.out.println(\"Dequeued data: \" + data);\n",
    "        printQueue(queue);\n",
    "\n",
    "        data = queue.remove();\n",
    "        System.out.println(\"Dequeued data: \" + data);\n",
    "        printQueue(queue);\n",
    "\n",
    "        data = queue.remove();\n",
    "        System.out.println(\"Dequeued data: \" + data);\n",
    "        printQueue(queue);\n",
    "\n",
    "        data = queue.remove();\n",
    "        System.out.println(\"Dequeued data: \" + data);\n",
    "        printQueue(queue);\n",
    "\n",
    "        data = queue.remove();\n",
    "        System.out.println(\"Dequeued data: \" + data);\n",
    "        printQueue(queue);\n",
    "\n",
    "        data = queue.remove();\n",
    "        System.out.println(\"Dequeued data: \" + data);\n",
    "        printQueue(queue);\n",
    "\n",
    "        data = queue.remove();\n",
    "        System.out.println(\"Dequeued data: \" + data);\n",
    "        printQueue(queue);\n",
    "    }\n",
    "\n",
    "    // Helper method to print the contents of the queue\n",
    "    public static void printQueue(Queue<String> queue) {\n",
    "        System.out.println(\"Words count: \" + queue.size() + \", data: \" + String.join(\" \", queue));\n",
    "        System.out.println();\n",
    "    }\n",
    "}\n",
    "\n",
    "QueueExample.main(null);"
   ]
  },
  {
   "cell_type": "code",
   "execution_count": null,
   "metadata": {
    "vscode": {
     "languageId": "java"
    }
   },
   "outputs": [],
   "source": [
    "//Hack 2\n",
    "\n",
    "import java.util.*;\n",
    "\n",
    "public class Merge {\n",
    "\n",
    "    public static Queue<Integer> merge(Queue<Integer> q1, Queue<Integer> q2) {\n",
    "        Queue<Integer> result = new LinkedList<>();\n",
    "\n",
    "        while (!q1.isEmpty() && !q2.isEmpty()) {\n",
    "            if (q1.peek() < q2.peek()) {\n",
    "                result.add(q1.poll());\n",
    "            } else {\n",
    "                result.add(q2.poll());\n",
    "            }\n",
    "        }\n",
    "\n",
    "        // Add any remaining elements from q1 or q2\n",
    "        result.addAll(q1);\n",
    "        result.addAll(q2);\n",
    "\n",
    "        return result;\n",
    "    }\n",
    "\n",
    "    public static void main(String[] args) {\n",
    "        Queue<Integer> q1 = new LinkedList<>(Arrays.asList(1, 3, 5, 7));\n",
    "        Queue<Integer> q2 = new LinkedList<>(Arrays.asList(2, 4, 6, 8));\n",
    "\n",
    "        Queue<Integer> merged = merge(q1, q2);\n",
    "        System.out.println(merged);  // Output: [1, 2, 3, 4, 5, 6, 7, 8]\n",
    "    }\n",
    "}\n",
    "Merge.main(null);"
   ]
  },
  {
   "cell_type": "code",
   "execution_count": null,
   "metadata": {
    "vscode": {
     "languageId": "java"
    }
   },
   "outputs": [],
   "source": [
    "//Hack 3\n",
    "\n",
    "public static class Queue{\n",
    "    public static void main(String[] args){  \n",
    "    private static class Node{\n",
    "        private int data;\n",
    "        private Node next;\n",
    "        private Node(int data){\n",
    "            this.data = data;\n",
    "        }\n",
    "    }\n",
    "    private Node current;\n",
    "    \n",
    "    while (node.current!= null){\n",
    "        node.current = Math.random() *10;\n",
    "    }\n",
    "}\n",
    "}"
   ]
  },
  {
   "cell_type": "code",
   "execution_count": 9,
   "metadata": {
    "vscode": {
     "languageId": "java"
    }
   },
   "outputs": [
    {
     "name": "stdout",
     "output_type": "stream",
     "text": [
      "[10, 20, 30]\n",
      "[30, 20, 10]"
     ]
    }
   ],
   "source": [
    "//Hack 4\n",
    "//Shows output in normal form, then in reverse form (stack hack)\n",
    "\n",
    " public class reverse{\n",
    "    public static void main(String[] args){  \n",
    "    Queue <Integer> queue = new ArrayDeque<>();\n",
    "    queue.add(10);\n",
    "    queue.add(20);\n",
    "    queue.add(30);\n",
    "    System.out.println(queue);\n",
    "\n",
    "    Stack<Integer> stack = new Stack<>();\n",
    "    while(!queue.isEmpty()){\n",
    "        stack.push(queue.remove());\n",
    "    }\n",
    "\n",
    "    while(!stack.isEmpty()){\n",
    "        queue.add(stack.pop());\n",
    "    }\n",
    "    System.out.print(queue);\n",
    "}\n",
    "}\n",
    "\n",
    "reverse.main(null);"
   ]
  }
 ],
 "metadata": {
  "kernelspec": {
   "display_name": "Java",
   "language": "java",
   "name": "java"
  },
  "language_info": {
   "codemirror_mode": "java",
   "file_extension": ".jshell",
   "mimetype": "text/x-java-source",
   "name": "Java",
   "pygments_lexer": "java",
   "version": "17.0.5+8-Ubuntu-2ubuntu120.04"
  },
  "orig_nbformat": 4
 },
 "nbformat": 4,
 "nbformat_minor": 2
}
