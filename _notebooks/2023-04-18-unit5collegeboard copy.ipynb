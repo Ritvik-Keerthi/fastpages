{
 "cells": [
  {
   "attachments": {},
   "cell_type": "markdown",
   "metadata": {},
   "source": [
    "# Unit 5 CollegeBoard\n",
    "> Teacher code notes.\n",
    "\n",
    "- toc: true \n",
    "- badges: true\n",
    "- comments: true\n",
    "- categories: [PBL_Learning]"
   ]
  },
  {
   "attachments": {},
   "cell_type": "markdown",
   "metadata": {},
   "source": [
    "Test\n",
    "Anatomy of a class\n",
    "\n",
    "classes and objects have the same relation as blueprints to a house\n",
    "\n",
    "In Java, a class is a blueprint or a template for creating objects which has different  attributes and behaviors. Every Java class has a specific structure or anatomy that includes various components.\n",
    "\n",
    "Here are the different components of a Java class:\n",
    "\n",
    "\n",
    "Class declaration: Every Java class begins with the declaration of the class name, which should be unique within the package. The syntax for declaring a class is as follows:\n",
    "\n"
   ]
  },
  {
   "cell_type": "code",
   "execution_count": null,
   "metadata": {
    "vscode": {
     "languageId": "java"
    }
   },
   "outputs": [],
   "source": [
    "public class ClassName {\n",
    "    // Class body\n",
    "}\n"
   ]
  },
  {
   "attachments": {},
   "cell_type": "markdown",
   "metadata": {},
   "source": [
    "Class body: The class body is enclosed in braces {} and contains various components that define the behavior and attributes of the class. The class body consists of the following components:\n",
    "\n",
    "a. Fields or Instance Variables: Fields are variables that store the state or data of the object, this was covered in unit 2. They can be initialized at the time of declaration or in the constructor. Fields can be of any primitive(int) or reference type(Strings). They are a essential component of a class"
   ]
  },
  {
   "cell_type": "code",
   "execution_count": 1,
   "metadata": {
    "vscode": {
     "languageId": "java"
    }
   },
   "outputs": [],
   "source": [
    "public class Person {\n",
    "    String name;\n",
    "    int age;\n",
    "    double height;\n",
    "    String Race;\n",
    "}\n",
    "\n"
   ]
  },
  {
   "attachments": {},
   "cell_type": "markdown",
   "metadata": {},
   "source": [
    "Methods: Methods are functions that define the behavior of the object. They can be used to perform certain actions or return a value. Methods can take arguments and can be overloaded, which means there can be multiple methods with the same name but different parameter types. Here's an example:"
   ]
  },
  {
   "cell_type": "code",
   "execution_count": null,
   "metadata": {
    "vscode": {
     "languageId": "java"
    }
   },
   "outputs": [],
   "source": [
    "public class Calculator {\n",
    "    public int add(int a, int b) {\n",
    "        return a + b;\n",
    "    }\n",
    "    \n",
    "    public double add(double a, double b) {\n",
    "        return a + b;\n",
    "    }\n",
    "}\n"
   ]
  },
  {
   "attachments": {},
   "cell_type": "markdown",
   "metadata": {},
   "source": [
    "Constructors are special methods that are used to initialize the state of the object. They have the same name as the class and do not have a return type, by initializing the state of a object the constructor is essentially establishing the field variables\n",
    "\n",
    " Here's an example:"
   ]
  },
  {
   "cell_type": "code",
   "execution_count": null,
   "metadata": {
    "vscode": {
     "languageId": "java"
    }
   },
   "outputs": [],
   "source": [
    "public class Person {\n",
    "    String name;\n",
    "    int age;\n",
    "    \n",
    "    public Person(String name, int age) {\n",
    "        this.name = name;\n",
    "        this.age = age;\n",
    "    }\n",
    "}\n"
   ]
  },
  {
   "attachments": {},
   "cell_type": "markdown",
   "metadata": {},
   "source": [
    "Not it is important to understand that any field variables, methods, or constructers listed as public is accesible outside the class whereas when it is listed private it is only accesible within the class"
   ]
  },
  {
   "cell_type": "code",
   "execution_count": null,
   "metadata": {
    "vscode": {
     "languageId": "java"
    }
   },
   "outputs": [],
   "source": [
    "public class MyClass {\n",
    "    // This variable can be accessed from anywhere.\n",
    "    public int publicVar;\n",
    "\n",
    "    // This variable can only be accessed from within this class.\n",
    "    private int privateVar;\n",
    "\n",
    "    // This method can be accessed from anywhere.\n",
    "    public void publicMethod() {\n",
    "        System.out.println(\"This is a public method.\");\n",
    "    }\n",
    "\n",
    "    // This method can only be accessed from within this class.\n",
    "    private void privateMethod() {\n",
    "        System.out.println(\"This is a private method.\");\n",
    "    }\n",
    "}\n"
   ]
  },
  {
   "attachments": {},
   "cell_type": "markdown",
   "metadata": {},
   "source": [
    "-Now generally classes are always made public because it needs to be used \n",
    "\n",
    "-fields are usually private so that it cannot be tampared with outside the class,\n",
    "\n",
    "\n",
    "- most methods are going to be public but there will be scenarios where you want to make it private, \n",
    "\n",
    "-Constructers need to be public because when creating an object you need to make it public"
   ]
  },
  {
   "attachments": {},
   "cell_type": "markdown",
   "metadata": {},
   "source": [
    "Accessor methods, also known as getters, are a type of class method that allows access to the value of an object's attributes. They are used to retrieve the value of a private or protected attribute without allowing direct modification."
   ]
  },
  {
   "cell_type": "code",
   "execution_count": 2,
   "metadata": {
    "vscode": {
     "languageId": "java"
    }
   },
   "outputs": [],
   "source": [
    "public class Person {\n",
    "    private String name;\n",
    "    private int age;\n",
    "    \n",
    "    public Person(String name, int age) {\n",
    "        this.name = name;\n",
    "        this.age = age;\n",
    "    }\n",
    "    \n",
    "    public String getName() {\n",
    "        return this.name;\n",
    "    }\n",
    "    \n",
    "    public int getAge() {\n",
    "        return this.age;\n",
    "    }\n",
    "}\n"
   ]
  },
  {
   "attachments": {},
   "cell_type": "markdown",
   "metadata": {},
   "source": [
    "In this example, we have a Person class with private attributes name and age. We provide public getter methods getName() and getAge() to allow access to these private attributes. The getName() method returns the name attribute as a String, and the getAge() method returns the age attribute as an int. These methods are used to retrieve the values of the attributes without allowing direct modification from outside the class."
   ]
  },
  {
   "attachments": {},
   "cell_type": "markdown",
   "metadata": {},
   "source": [
    "Mutator methods, also known as setter methods, are a type of class method that allows modification of an object's attributes. They are used to update the value of a private or protected attribute from outside the class. Here's an example of a mutator method in Java:"
   ]
  },
  {
   "cell_type": "code",
   "execution_count": null,
   "metadata": {
    "vscode": {
     "languageId": "java"
    }
   },
   "outputs": [],
   "source": [
    "public class Person {\n",
    "    private String name;\n",
    "    private int age;\n",
    "    \n",
    "    public Person(String name, int age) {\n",
    "        this.name = name;\n",
    "        this.age = age;\n",
    "    }\n",
    "    \n",
    "    public void setName(String name) {\n",
    "        this.name = name;\n",
    "    }\n",
    "    \n",
    "    public void setAge(int age) {\n",
    "        this.age = age;\n",
    "    }\n",
    "}\n"
   ]
  },
  {
   "attachments": {},
   "cell_type": "markdown",
   "metadata": {},
   "source": [
    "In this example, we have a Person class with private attributes name and age. We provide public setter methods setName() and setAge() to allow modification of these private attributes. The setName() method takes a String argument and updates the name attribute, and the setAge() method takes an int argument and updates the age attribute. These methods are used to update the values of the attributes from outside the class."
   ]
  },
  {
   "attachments": {},
   "cell_type": "markdown",
   "metadata": {},
   "source": [
    "HACKS:\n",
    "\n",
    "Exercise 1:\n",
    "Create a Rectangle class with width and height fields, and getArea() and getPerimeter() methods. Then create a Square class that extends the Rectangle class and has a sideLength field.\n",
    "\n",
    "Exercise 2:\n",
    "Create a Person class with firstName and lastName fields, and a getFullName() method. Then create a Student class that extends the Person class and has a major field and a getMajor() method.\n",
    "\n",
    "Exercise 3:\n",
    "Create an Animal class with a speak() method that prints \"I am an animal.\" Then create a Cat class and a Dog class that extend the Animal class and"
   ]
  },
  {
   "attachments": {},
   "cell_type": "markdown",
   "metadata": {},
   "source": [
    "# 5.6 Writing Methods\n",
    "\n",
    "Format\n",
    "\n",
    "The typical format of a method header is (). Access modifiers for Java methods can be: public, private, or protected. Return type can be: void, String, boolean, int, double, float, char, etc. Method name can be anything, but usually something descriptive that allows you to infer what the method does. You can have any number of parameters or no parameters.\n",
    "\n",
    "When a member is declared as \"public,\" it can be accessed from anywhere, including from other classes, even if they are in different packages or assemblies. This means that the member is accessible by any code that can access the class that contains the member."
   ]
  },
  {
   "cell_type": "code",
   "execution_count": null,
   "metadata": {
    "vscode": {
     "languageId": "java"
    }
   },
   "outputs": [],
   "source": [
    "class Person {\n",
    "    public int getAge() {\n",
    "        return age;\n",
    "    }\n",
    "    // other class members\n",
    "}\n",
    "\n",
    "class Main {\n",
    "    public static void main(String[] args) {\n",
    "        Person person = new Person();\n",
    "        int age = person.getAge();\n",
    "        // use the age\n",
    "    }\n",
    "}\n",
    "\n",
    "\n",
    "// Examples of method headers:\n",
    "public static void main (String args[])\n",
    "private String sayHello ()\n",
    "protected static int addNums (int a, int b)\n",
    "public void printSum (double a, double b, int c, boolean flag, String text)"
   ]
  },
  {
   "attachments": {},
   "cell_type": "markdown",
   "metadata": {},
   "source": [
    "# 5.7 Static Variables and Methods\n",
    "\n",
    "Static variables and methods are marked by the keyword static, which means that these are properties of the entire class and not just of one particular object.\n",
    "\n",
    "- Static methods cannot access or change the values of instance variables.\n",
    "- Static methods do not have a this reference and cannot use instance variables or call non-static methods."
   ]
  },
  {
   "cell_type": "code",
   "execution_count": null,
   "metadata": {
    "vscode": {
     "languageId": "java"
    }
   },
   "outputs": [],
   "source": [
    "public class College {\n",
    "    // Static variable to store the number of students enrolled in the college\n",
    "    public static int numberOfStudents = 0;\n",
    "\n",
    "    // Static method to enroll a student\n",
    "    public static void enrollStudent() {\n",
    "        numberOfStudents++;\n",
    "    }\n",
    "\n",
    "    public static void main(String[] args) {\n",
    "        // Enroll some students\n",
    "        College.enrollStudent();\n",
    "        College.enrollStudent();\n",
    "        College.enrollStudent();\n",
    "\n",
    "        // Print the number of students enrolled\n",
    "        System.out.println(\"Number of students enrolled: \" + College.numberOfStudents);\n",
    "    }\n",
    "}"
   ]
  },
  {
   "attachments": {},
   "cell_type": "markdown",
   "metadata": {},
   "source": [
    "# 5.8 Scope and Access\n",
    "\n",
    "There are two types of scope: local scope and global scope.\n",
    "\n",
    "Local scope means that a variable can only be used inside a particular method or constructor and not outside. These include our method and constructor parameters and also any variables we declare inside the method or constructor.\n",
    "\n",
    "Global scope means that a variable or method can be used outside that method or constructor and at least throughout that class. These include our instance variables and also the methods that we write for our class. We declare these directly in the class and not inside a method or constructor.\n",
    "\n",
    "If there is a local variable (usually a parameter) and a global variable (usually an instance variable) in the same method with the same name, the local variable takes precedence."
   ]
  },
  {
   "cell_type": "code",
   "execution_count": null,
   "metadata": {
    "vscode": {
     "languageId": "java"
    }
   },
   "outputs": [],
   "source": [
    "public class College {\n",
    "    // Global variable to store the number of students enrolled in the college\n",
    "    public static int numberOfStudents = 0;\n",
    "\n",
    "    public static void main(String[] args) {\n",
    "        // Local variable to store the number of students enrolled in a specific course\n",
    "        int numberOfStudentsInCourse = 10;\n",
    "\n",
    "        // Print both variables\n",
    "        System.out.println(\"Number of students in college: \" + numberOfStudents);\n",
    "        System.out.println(\"Number of students in course: \" + numberOfStudentsInCourse);\n",
    "\n",
    "        // Call a method that uses both variables\n",
    "        enrollStudentsInCourse(5);\n",
    "    }\n",
    "\n",
    "    public static void enrollStudentsInCourse(int numberOfNewStudents) {\n",
    "        // Access global and local variables\n",
    "        System.out.println(\"Number of students in college inside method: \" + numberOfStudents);\n",
    "        int numberOfStudentsInCourse = 15;\n",
    "        System.out.println(\"Number of students in course inside method: \" + numberOfStudentsInCourse);\n",
    "\n",
    "        // Enroll new students in course\n",
    "        numberOfStudentsInCourse += numberOfNewStudents;\n",
    "\n",
    "        // Update global variable\n",
    "        numberOfStudents += numberOfNewStudents;\n",
    "\n",
    "        // Print updated values\n",
    "        System.out.println(\"Number of new students enrolled in course: \" + numberOfNewStudents);\n",
    "        System.out.println(\"Total number of students in course: \" + numberOfStudentsInCourse);\n",
    "        System.out.println(\"Total number of students in college: \" + numberOfStudents);\n",
    "    }\n",
    "}"
   ]
  },
  {
   "attachments": {},
   "cell_type": "markdown",
   "metadata": {},
   "source": [
    "This demonstrates that the global variable has global scope, which means it can be accessed from anywhere in the code, while the local variable has local scope, which means it can only be accessed within the method in which it was defined."
   ]
  },
  {
   "attachments": {},
   "cell_type": "markdown",
   "metadata": {},
   "source": [
    "# 5.9 This Keyword\n",
    "\n",
    "The this keyword is a keyword that essentially refers to the object that is calling the method or the object that the constructor is trying to make. There are three ways to use this:\n",
    "\n",
    "- To refer to an instance variable\n",
    "    This will solve the problem of having duplicate variable names. To distinguish the instance and local variables, we use this.variableName for the instance variable and simply variableName for the local variable.\n",
    "\n",
    "- As a parameter\n",
    "    Sometimes, we can also use the object as a parameter in its own method call to use itself in the method by using objectName.methodName(this).\n",
    "\n",
    "- As a constructor or method call\n",
    "    This will allow us to overload our constructors effectively. Inside the overloaded constructors, we can make a call to the full constructor using this() where the parameters include the default values as well. We can also use this way as a method call to call a method inside a method call as well using this.methodName().\n",
    "\n"
   ]
  },
  {
   "cell_type": "code",
   "execution_count": null,
   "metadata": {
    "vscode": {
     "languageId": "java"
    }
   },
   "outputs": [],
   "source": [
    "public class College {\n",
    "    private String name;\n",
    "\n",
    "    public College(String name) {\n",
    "        this.name = name;\n",
    "    }\n",
    "\n",
    "    public void printName() {\n",
    "        System.out.println(\"College name: \" + this.name);\n",
    "    }\n",
    "\n",
    "    public void setName(String name) {\n",
    "        this.name = name;\n",
    "    }\n",
    "}"
   ]
  }
 ],
 "metadata": {
  "kernelspec": {
   "display_name": "Java",
   "language": "java",
   "name": "java"
  },
  "language_info": {
   "codemirror_mode": "java",
   "file_extension": ".jshell",
   "mimetype": "text/x-java-source",
   "name": "Java",
   "pygments_lexer": "java",
   "version": "18.0.2.1+1-1"
  },
  "orig_nbformat": 4
 },
 "nbformat": 4,
 "nbformat_minor": 2
}
