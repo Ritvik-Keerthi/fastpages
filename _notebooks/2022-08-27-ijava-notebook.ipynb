{
 "cells": [
  {
   "cell_type": "markdown",
   "metadata": {},
   "source": [
    "# IJava Kernel Notebook\n",
    "< Documenting key learnings about Primitives (week 1)\n",
    "\n",
    "- toc: true \n",
    "- comments: true\n",
    "- categories: [PBL_Learning]"
   ]
  },
  {
   "cell_type": "markdown",
   "metadata": {},
   "source": [
    "Data Types\n",
    "Primitive: Boolean (boolean) and Numeric {Character (char), Integral {Integer (byte, short, int, long)},  Floating Point {float, double}}\n",
    "\n",
    "Non-Primitive: String, Array etc."
   ]
  },
  {
   "cell_type": "code",
   "execution_count": 1,
   "metadata": {
    "vscode": {
     "languageId": "java"
    }
   },
   "outputs": [
    {
     "ename": "CompilationException",
     "evalue": "",
     "output_type": "error",
     "traceback": [
      "\u001b[1m\u001b[30m|   \u001b[1m\u001b[30m    string aString = \"Clippers are winning the NBA Championship\"\u001b[0m\u001b[1m\u001b[30m\u001b[41m\u001b[0m\u001b[1m\u001b[30m\u001b[0m",
      "\u001b[1m\u001b[31m';' expected\u001b[0m",
      ""
     ]
    }
   ],
   "source": [
    "// Hack 1 --> Demonstrating Key Learnings of Primitives Wk1\n",
    "public class DefinePrimitives {\n",
    "  public static void main(String[] args) {\n",
    "    int anInt = 828329297;\n",
    "    double aDouble = 90.8;\n",
    "    boolean aBoolean = false;\n",
    "    string aString = \"Clippers are winning the NBA Championship\";\n",
    "\n",
    "\n",
    "    System.out.println(\"anInt: \" + anInt);\n",
    "    System.out.println(\"aDouble: \" + aDouble);\n",
    "    System.out.println(\"aBoolean: \" + aBoolean);\n",
    "    System.out.println(\"aString: \" + aString);\n",
    "\n",
    "  }\n",
    "}\n",
    "DefinePrimitives.main(null)"
   ]
  }
 ],
 "metadata": {
  "kernelspec": {
   "display_name": "Java",
   "language": "java",
   "name": "java"
  },
  "language_info": {
   "codemirror_mode": "java",
   "file_extension": ".jshell",
   "mimetype": "text/x-java-source",
   "name": "Java",
   "pygments_lexer": "java",
   "version": "11.0.16+8-post-Ubuntu-0ubuntu120.04"
  },
  "orig_nbformat": 4,
  "vscode": {
   "interpreter": {
    "hash": "fb8e050f892331463e6bdd759678ed067c2813c11523a14e17d2b68f5cee5a91"
   }
  }
 },
 "nbformat": 4,
 "nbformat_minor": 2
}
