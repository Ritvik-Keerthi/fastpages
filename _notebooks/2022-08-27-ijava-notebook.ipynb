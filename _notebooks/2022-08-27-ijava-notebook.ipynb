{
 "cells": [
  {
   "cell_type": "markdown",
   "metadata": {},
   "source": [
    "# IJava Kernel Notebook\n",
    "< Documenting key learnings about Primitives (week 1)\n",
    "\n",
    "- toc: true \n",
    "- comments: true\n",
    "- categories: [PBL_Learning]"
   ]
  },
  {
   "cell_type": "markdown",
   "metadata": {},
   "source": [
    "Data Types\n",
    "Primitive: Boolean (boolean) and Numeric {Character (char), Integral {Integer (byte, short, int, long)},  Floating Point {float, double}}\n",
    "\n",
    "Non-Primitive: String, Array etc."
   ]
  },
  {
   "cell_type": "code",
   "execution_count": null,
   "metadata": {},
   "outputs": [],
   "source": [
    "// Here's an example of a Grade Calculator, through the utilization of Primitives, created by Mr. Mort (for reference)\n",
    "public class GradeCalculator {\n",
    "    // introduction to Double wrapper class (object)\n",
    "    ArrayList<Double> grades;   // similar to Python list\n",
    "\n",
    "    // constructor, initializes ArrayList and call enterGrades method\n",
    "    public GradeCalculator() {\n",
    "        this.grades = new ArrayList<>();\n",
    "        this.enterGrades();\n",
    "    }\n",
    "\n",
    "    // double requires test for zero versus threshold, DO NOT compare to Zero\n",
    "    private boolean isZero(double value){\n",
    "        double threshold = 0.001;\n",
    "        return value >= -threshold && value <= threshold;\n",
    "    }\n",
    "\n",
    "\n",
    "    // enterGrades input method using scanner\n",
    "    private void enterGrades() {\n",
    "        Scanner input;\n",
    "\n",
    "        while (true) {\n",
    "            input = new Scanner(System.in);\n",
    "            System.out.print(\"Enter a double, 0 to exit: \");\n",
    "            try {\n",
    "                double sampleInputDouble = input.nextDouble();\n",
    "                System.out.println(sampleInputDouble);\n",
    "                if (isZero(sampleInputDouble)) break;       // exit loop on isZero\n",
    "                else this.grades.add(sampleInputDouble);    // adding to object, ArrayList grades\n",
    "            } catch (Exception e) {  // if not a number\n",
    "                System.out.println(\"Not an double (form like 9.99), \" + e);\n",
    "            }\n",
    "            input.close();\n",
    "        }\n",
    "    }\n",
    "\n",
    "    // average calculation \n",
    "    public double average() {\n",
    "        double total = 0;   // running total\n",
    "        for (double num : this.grades) {    // enhanced for loop\n",
    "            total += num;   // shortcut add and assign operator\n",
    "        }\n",
    "        return (total / this.grades.size());  // double math, ArrayList grades object maintains its size\n",
    "    }\n",
    "\n",
    "    // static main method, used as driver and tester\n",
    "    public static void main(String[] args) {\n",
    "        GradeCalculator grades = new GradeCalculator(); // calls constructor, creates object, which calls enterGrades\n",
    "        System.out.println(\"Average: \" + String.format(\"%.2f\", grades.average()));  // format used to standardize to two decimal points\n",
    "    }\n",
    "}\n",
    "// IJava activation\n",
    "GradeCalculator.main(null);"
   ]
  },
  {
   "cell_type": "code",
   "execution_count": 5,
   "metadata": {},
   "outputs": [
    {
     "name": "stdout",
     "output_type": "stream",
     "text": [
      "anInt: 828329297\n",
      "aDouble: 90.8\n",
      "aBoolean: false\n",
      "aString: Clippers are winning the NBA Championship\n"
     ]
    }
   ],
   "source": [
    "// Hack 1 --> Demonstrating Key Learnings of Primitives Wk1\n",
    "public class DefinePrimitives {\n",
    "  public static void main(String[] args) {\n",
    "    int anInt = 828329297;\n",
    "    double aDouble = 90.8;\n",
    "    boolean aBoolean = false;\n",
    "    String aString = \"Clippers are winning the NBA Championship\";\n",
    "\n",
    "\n",
    "    System.out.println(\"anInt: \" + anInt);\n",
    "    System.out.println(\"aDouble: \" + aDouble);\n",
    "    System.out.println(\"aBoolean: \" + aBoolean);\n",
    "    System.out.println(\"aString: \" + aString);\n",
    "\n",
    "  }\n",
    "}\n",
    "DefinePrimitives.main(null)"
   ]
  },
  {
   "cell_type": "code",
   "execution_count": 10,
   "metadata": {},
   "outputs": [
    {
     "name": "stdout",
     "output_type": "stream",
     "text": [
      "When a and b are added: 49\n",
      "When a and b are subtracted: 1\n",
      "When a and b are multiplied: 600\n",
      "When a and b are divided: 1.0\n"
     ]
    }
   ],
   "source": [
    "//Hack 2 Compound Assignment Operators\n",
    "public class Compound {\n",
    "    public static void main(String[] args) {\n",
    "        int a = 50;\n",
    "        int b = 25;\n",
    "        int add = a + b;\n",
    "        int subtract = a - b;\n",
    "        int multiply = a * b;\n",
    "        float divide = a / b;\n",
    "\n",
    "        System.out.println(\"When a and b are added: \" + add);\n",
    "        System.out.println(\"When a and b are subtracted: \" + subtract);\n",
    "        System.out.println(\"When a and b are multiplied: \" +  multiply);\n",
    "        System.out.println(\"When a and b are divided: \" + divide);\n",
    "\n",
    "\n",
    "    }\n",
    "}\n",
    "Compound.main(null)"
   ]
  }
 ],
 "metadata": {
  "kernelspec": {
   "display_name": "Java",
   "language": "java",
   "name": "java"
  },
  "language_info": {
   "codemirror_mode": "java",
   "file_extension": ".jshell",
   "mimetype": "text/x-java-source",
   "name": "java",
   "pygments_lexer": "java",
   "version": "11.0.16+8-post-Ubuntu-0ubuntu120.04"
  },
  "orig_nbformat": 4,
  "vscode": {
   "interpreter": {
    "hash": "fb8e050f892331463e6bdd759678ed067c2813c11523a14e17d2b68f5cee5a91"
   }
  }
 },
 "nbformat": 4,
 "nbformat_minor": 2
}
