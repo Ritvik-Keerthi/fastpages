{
 "cells": [
  {
   "cell_type": "markdown",
   "metadata": {},
   "source": [
    "# Unit 6 HW (Unit 6)\n",
    "\n",
    "- toc: true \n",
    "- comments: true\n",
    "- categories: [PBL_Learning]"
   ]
  },
  {
   "cell_type": "markdown",
   "metadata": {},
   "source": [
    "Homework Units 6\n",
    "\n",
    "- Unit 6 CB Homework\n",
    "*NONE, only hacks*\n"
   ]
  },
  {
   "cell_type": "code",
   "execution_count": 9,
   "metadata": {
    "vscode": {
     "languageId": "java"
    }
   },
   "outputs": [],
   "source": [
    "\n",
    "public void mystery(int n)\n",
    "List<Object> list = new ArrayList<Object>(){{\n",
    "    add(12);\n",
    "    add(9);\n",
    "    add(7);\n",
    "    add(8);\n",
    "    add(4);\n",
    "    add(3);\n",
    "    add(6);\n",
    "    add(11);\n",
    "    add(1);\n",
    "} };\n",
    "{\n",
    "\n",
    "  for (int k = 0; k < n; k++)\n",
    "\n",
    "  {\n",
    "\n",
    "    Object obj = list.remove(0);\n",
    "\n",
    "    list.add(obj);\n",
    "\n",
    "  }\n",
    "\n",
    "}\n",
    "mystery(3);"
   ]
  }
 ],
 "metadata": {
  "kernelspec": {
   "display_name": "Java",
   "language": "java",
   "name": "java"
  },
  "language_info": {
   "codemirror_mode": "java",
   "file_extension": ".jshell",
   "mimetype": "text/x-java-source",
   "name": "Java",
   "pygments_lexer": "java",
   "version": "17.0.5+8-Ubuntu-2ubuntu120.04"
  },
  "orig_nbformat": 4
 },
 "nbformat": 4,
 "nbformat_minor": 2
}
