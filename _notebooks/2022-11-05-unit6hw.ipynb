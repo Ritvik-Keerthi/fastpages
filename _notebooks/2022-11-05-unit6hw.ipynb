{
 "cells": [
  {
   "cell_type": "markdown",
   "metadata": {},
   "source": [
    "# Unit 6 HW (Unit 6)\n",
    "\n",
    "- toc: true \n",
    "- comments: true\n",
    "- categories: [PBL_Learning]"
   ]
  },
  {
   "cell_type": "code",
   "execution_count": 5,
   "metadata": {
    "vscode": {
     "languageId": "java"
    }
   },
   "outputs": [
    {
     "name": "stdout",
     "output_type": "stream",
     "text": [
      "Original Array: [60, 70, 135]\n",
      "New array: [135, 70, 60]\n",
      "--------------------------------------\n"
     ]
    }
   ],
   "source": [
    "public class ArrayMethods {\n",
    "    public static void main(String[] args){\n",
    "        //////////////////////Hack #1///////////////////////////////////\n",
    "        int[] array_nums = {60, 70, 135};\n",
    "        System.out.println(\"Original Array: \"+Arrays.toString(array_nums)); \n",
    "        int x = array_nums[0];\n",
    "        array_nums[0] = array_nums[array_nums.length-1];\n",
    "        array_nums[array_nums.length-1] = x;\n",
    "        System.out.println(\"New array: \"+Arrays.toString(array_nums));  \n",
    "\n",
    "        System.out.println(\"--------------------------------------\");\n",
    "\n",
    "        //////////////////////Hack #2///////////////////////////////////\n",
    "        int len = array_nums.length;\n",
    "        for(int i = 0; i<len; i++){\n",
    "            if(array_nums[i]%2==0){\n",
    "                array_nums[i]=0;\n",
    "            }\n",
    "        }\n",
    "        System.out.println(\"New array: \"+Arrays.toString(array_nums)); \n",
    "        \n",
    "        System.out.println(\"--------------------------------------\");\n",
    "        //////////////////////Hack #3///////////////////////////////////\n",
    " }\n",
    "}\n",
    "ArrayMethods.main(null);"
   ]
  }
 ],
 "metadata": {
  "kernelspec": {
   "display_name": "Java",
   "language": "java",
   "name": "java"
  },
  "language_info": {
   "codemirror_mode": "java",
   "file_extension": ".jshell",
   "mimetype": "text/x-java-source",
   "name": "Java",
   "pygments_lexer": "java",
   "version": "11.0.16+8-post-Ubuntu-0ubuntu120.04"
  },
  "orig_nbformat": 4
 },
 "nbformat": 4,
 "nbformat_minor": 2
}
