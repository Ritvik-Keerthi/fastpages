{
 "cells": [
  {
   "cell_type": "markdown",
   "metadata": {},
   "source": [
    "# Unit 6 HW (Unit 6)\n",
    "\n",
    "- toc: true \n",
    "- comments: true\n",
    "- categories: [PBL_Learning]"
   ]
  },
  {
   "cell_type": "code",
   "execution_count": 29,
   "metadata": {
    "vscode": {
     "languageId": "java"
    }
   },
   "outputs": [
    {
     "name": "stdout",
     "output_type": "stream",
     "text": [
      "Original Array: [70, 35, 40]\n",
      "New Array: [40, 35, 70]\n",
      "----------------------------\n",
      "Original Array: [40, 35, 70]\n",
      "New Array: [0, 35, 0]\n",
      "----------------------------\n"
     ]
    }
   ],
   "source": [
    "public class ArrayMethods {\n",
    "    public static void main(String[] args){\n",
    "        int[] array = {70, 35, 40};\n",
    "        System.out.println(\"Original Array: \"+Arrays.toString(array)); \n",
    "        int x = array[0];\n",
    "        array[0] = array[array.length-1];\n",
    "        array[array.length-1] = x;\n",
    "        System.out.println(\"New Array: \"+Arrays.toString(array));  \n",
    "\n",
    "        System.out.println(\"----------------------------\");\n",
    "\n",
    "        System.out.println(\"Original Array: \"+Arrays.toString(array)); \n",
    "        int len = array.length;\n",
    "        for(int i=0; i<len; i++){\n",
    "            if(array[i]%2==0){\n",
    "                array[i]=0;\n",
    "            }\n",
    "        }\n",
    "        System.out.println(\"New Array: \"+Arrays.toString(array));\n",
    "\n",
    "        System.out.println(\"----------------------------\");\n",
    "\n",
    "        if (n == 1 || n == 0)\n",
    "            return 1;\n",
    " \n",
    "        if (arr[n - 1] < arr[n - 2])\n",
    "            return 0;\n",
    " \n",
    "        return arraySortedOrNot(arr, n - 1);\n",
    "        int n = arr.length;\n",
    "        if (arraySortedOrNot(arr, n) != 0)\n",
    "            System.out.println(\"Yes\");\n",
    "        else\n",
    "            System.out.println(\"No\");\n",
    "    }\n",
    "    }\n",
    "}\n",
    "ArrayMethods.main(null);"
   ]
  }
 ],
 "metadata": {
  "kernelspec": {
   "display_name": "Java",
   "language": "java",
   "name": "java"
  },
  "language_info": {
   "codemirror_mode": "java",
   "file_extension": ".jshell",
   "mimetype": "text/x-java-source",
   "name": "Java",
   "pygments_lexer": "java",
   "version": "11.0.16+8-post-Ubuntu-0ubuntu120.04"
  },
  "orig_nbformat": 4
 },
 "nbformat": 4,
 "nbformat_minor": 2
}
