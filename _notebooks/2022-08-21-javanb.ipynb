{
 "cells": [
  {
   "cell_type": "markdown",
   "metadata": {},
   "source": [
    "# Java Jupyter Notebook\n",
    "> Jupyter Notebook: Java Edition\n",
    "\n",
    "- toc: true \n",
    "- badges: true\n",
    "- comments: false\n",
    "- categories: [unit-work]"
   ]
  },
  {
   "cell_type": "code",
   "execution_count": 6,
   "metadata": {
    "vscode": {
     "languageId": "java"
    }
   },
   "outputs": [
    {
     "name": "stdout",
     "output_type": "stream",
     "text": [
      "My name is Ritvik Keerthi and I am a student in CSA\n"
     ]
    }
   ],
   "source": [
    "public class test {\n",
    "    public static void main(String[] args) {\n",
    "        System.out.println(\"My name is Ritvik Keerthi and I am a student in CSA\");\n",
    "    }\n",
    "}\n",
    "\n",
    "test.main(null)"
   ]
  }
 ],
 "metadata": {
  "kernelspec": {
   "display_name": "Java",
   "language": "java",
   "name": "java"
  },
  "language_info": {
   "codemirror_mode": "java",
   "file_extension": ".jshell",
   "mimetype": "text/x-java-source",
   "name": "Java",
   "pygments_lexer": "java",
   "version": "11.0.16+8-post-Ubuntu-0ubuntu120.04"
  },
  "orig_nbformat": 4,
  "vscode": {
   "interpreter": {
    "hash": "427dcdaf527f8da7a1761cd773978ab435318866dd9c4f2bb279c674b00c0326"
   }
  }
 },
 "nbformat": 4,
 "nbformat_minor": 3
}
