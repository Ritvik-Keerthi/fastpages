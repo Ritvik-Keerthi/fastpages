{
 "cells": [
  {
   "cell_type": "markdown",
   "metadata": {},
   "source": [
    "# Unit 3 and 5 HW (Unit 3&5)\n",
    "\n",
    "- toc: true \n",
    "- comments: true\n",
    "- categories: [PBL_Learning]"
   ]
  },
  {
   "cell_type": "code",
   "execution_count": null,
   "metadata": {},
   "outputs": [],
   "source": [
    "// Unit 3 HW\n",
    "\n"
   ]
  },
  {
   "cell_type": "code",
   "execution_count": null,
   "metadata": {},
   "outputs": [],
   "source": [
    "// Unit 5 HW (1a + 3a)\n",
    "\n",
    "//1a) \n",
    "\n",
    "public int scoreGuess(String guess){\n",
    "    int result = 0;\n",
    "\n",
    "    for(int i = 0; i < secret.length(); i++){\n",
    "        if(secret.substring(i).indexOf(guess) == 0){\n",
    "            count++;\n",
    "        }\n",
    "    }\n",
    "    return result * guess.length() * guess.length();\n",
    "}\n",
    "\n",
    "\n",
    "//3a) \n",
    "\n",
    "public void addMembers(String[] names, int gradYear){\n",
    "    for(int i = 0; i < names.length; i++) {\n",
    "        MemberInfo temp = new MemberInfo(names[i],\n",
    "        gradYear, true);\n",
    "        membersLIst.add(Temp);\n",
    "    )\n",
    "}"
   ]
  }
 ],
 "metadata": {
  "kernelspec": {
   "display_name": "Java",
   "language": "java",
   "name": "java"
  },
  "language_info": {
   "name": "java",
   "version": "3.8.10"
  },
  "orig_nbformat": 4,
  "vscode": {
   "interpreter": {
    "hash": "916dbcbb3f70747c44a77c7bcd40155683ae19c65e1c03b4aa3499c5328201f1"
   }
  }
 },
 "nbformat": 4,
 "nbformat_minor": 2
}
