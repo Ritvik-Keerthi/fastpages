{
 "cells": [
  {
   "cell_type": "markdown",
   "metadata": {},
   "source": [
    "# Unit 3 and 5 HW (Unit 3&5)\n",
    "\n",
    "- toc: true \n",
    "- comments: true\n",
    "- categories: [PBL_Learning]"
   ]
  },
  {
   "cell_type": "markdown",
   "metadata": {},
   "source": [
    "Homework Units 3 and 5\n",
    "\n",
    "- Unit 3 CB Homework\n",
    "2017 FRQ Questions & Scoring Guidelines\n",
    "[2017 FRQ Questions](https://apcentral.collegeboard.org/media/pdf/ap-computer-science-a-frq-2017.pdf)\n",
    "[2017 FRQ Solutions](https://secure-media.collegeboard.org/ap/pdf/ap17-sg-comp-sci-a.pdf)\n",
    "\n",
    "2019 FRQ Questions & Scoring Guidelines\n",
    "[2019 FRQ Questions](https://apcentral.collegeboard.org/media/pdf/ap19-frq-computer-science-a.pdf)\n",
    "[2019 FRQ Solutions](https://apcentral.collegeboard.org/media/pdf/ap19-sg-computer-science-a_1.pdf)\n",
    "\n",
    "- Unit 5 CB Homework\n",
    "2021 FRQ Questions & Scoring Guidelines\n",
    "[2021 FRQ Questions](https://apcentral.collegeboard.org/media/pdf/ap21-frq-computer-science-a.pdf)\n",
    "[2021 FRQ Solutions](https://apcentral.collegeboard.org/media/pdf/ap21-apc-computer-science-a-q3.pdf)"
   ]
  },
  {
   "cell_type": "code",
   "execution_count": null,
   "metadata": {},
   "outputs": [],
   "source": [
    "// Unit 3 HW\n",
    "\n",
    "//1a)\n",
    "//create digits time \n",
    "public Digits(int num)\n",
    "{\n",
    "  digitList = new ArrayList<Integer>();\n",
    "  digitList.add(0, new Integer(num % 10));\n",
    "\n",
    "  int numRemaining = num / 10;\n",
    "  while(numRemaining > 0)\n",
    "  {\n",
    "    digitList.add(0, new Integer(numRemaining % 10));\n",
    "    numRemaining /= 10;\n",
    "  }\n",
    "}\n",
    "\n",
    "\n",
    "\n",
    "//1b)\n",
    "public boolean isStrictlyIncreasing()\n",
    "{\n",
    "  for(int i = 1; i < digitList.size(); i++)\n",
    "    if(digitList.get(i - 1).compareTo(digitList.get(i)) >= 0)\n",
    "      return false;\n",
    "\n",
    "  return true;\n",
    "}\n",
    "\n",
    "\n",
    "//3b\n",
    "public int findLastOccurrence(String str)\n",
    "{\n",
    "  int n = 1;\n",
    "  int index = -1;\n",
    "  int nextIndex = findNthOccurrence(str, n);\n",
    "  while(nextIndex != -1)\n",
    "  {\n",
    "    index = nextIndex;\n",
    "    n++;\n",
    "    nextIndex = findNthOccurrence(str, n);\n",
    "  }\n",
    "\n",
    "  return index;\n",
    "}"
   ]
  },
  {
   "cell_type": "code",
   "execution_count": null,
   "metadata": {},
   "outputs": [],
   "source": [
    "// Unit 5 HW (1a + 3a)\n",
    "\n",
    "//1a) \n",
    "\n",
    "public int scoreGuess(String guess){\n",
    "    int result = 0;\n",
    "\n",
    "    for(int i = 0; i < secret.length(); i++){\n",
    "        if(secret.substring(i).indexOf(guess) == 0){\n",
    "            count++;\n",
    "        }\n",
    "    }\n",
    "    return result * guess.length() * guess.length();\n",
    "}\n",
    "\n",
    "\n",
    "//3a) \n",
    "\n",
    "public void addMembers(String[] names, int gradYear){\n",
    "    for(int i = 0; i < names.length; i++) {\n",
    "        MemberInfo temp = new MemberInfo(names[i],\n",
    "        gradYear, true);\n",
    "        membersLIst.add(Temp);\n",
    "    )\n",
    "}"
   ]
  }
 ],
 "metadata": {
  "kernelspec": {
   "display_name": "Java",
   "language": "java",
   "name": "java"
  },
  "language_info": {
   "name": "java",
   "version": "3.8.10"
  },
  "orig_nbformat": 4,
  "vscode": {
   "interpreter": {
    "hash": "916dbcbb3f70747c44a77c7bcd40155683ae19c65e1c03b4aa3499c5328201f1"
   }
  }
 },
 "nbformat": 4,
 "nbformat_minor": 2
}
