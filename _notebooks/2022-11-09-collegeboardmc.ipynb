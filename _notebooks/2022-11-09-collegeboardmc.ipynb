{
 "cells": [
  {
   "cell_type": "markdown",
   "metadata": {},
   "source": [
    "# CollegeBoard 2014 MCQ Test Corrections and Key Learnings\n",
    "\n",
    "- toc: true \n",
    "- comments: true\n",
    "- categories: [PBL_Learning]"
   ]
  },
  {
   "cell_type": "markdown",
   "metadata": {},
   "source": [
    "SCORE:\n",
    "![image](https://user-images.githubusercontent.com/89219486/200905861-71ff5ced-f333-4c29-965f-1b99c025d745.png)\n",
    "--------------------------------------\n",
    "Things to Review\n",
    "1) Go over substrings. Try and figure out how they work in order to answer this question quickly and correctly. Utilize collegeboard resources like the videos and watch them to further develop understanding of topic.\n",
    "\n",
    "2) Understand the topic of arrays, especially translating a 1D array to a 2D array. Print new array code segment correctly, with rows and column values already previously initialized. \n",
    "\n",
    "3) Understand how string and integer parameters work, utilize resources on collegeboard like videos, as well as how substring works (connecting to question 1)\n",
    "\n",
    "4) Don't rush yourself. These are easy questions; no reason to miss them. \n",
    "\n",
    "\n",
    "---------------------\n",
    "Missed Questions\n",
    "---------------------\n",
    "23) \n",
    "![image](https://user-images.githubusercontent.com/89219486/200759608-e55910f7-3500-4013-97e8-b1d77f8c5a48.png)\n",
    "Correct Answer: [\"bear\", \"zebra\", \"bass\", \"cat\", \"koala\", \"baboon\"]\n",
    "\n",
    "Things to Review: Go over substrings. Try and figure out how they work in order to answer this question quickly and correctly. Utilize collegeboard resources like the videos and watch them to further develop understanding of topic.  \n",
    "-----------------------------------------------------------------------------------------------------------------------------------------\n",
    "24)\n",
    "![image](https://user-images.githubusercontent.com/89219486/200759683-bafb1404-2671-4686-8da2-3394adf3ec0d.png)\n",
    "Correct Answer: 7\n",
    "\n",
    "30)\n",
    "![image](https://user-images.githubusercontent.com/89219486/200759767-aa926e70-6e97-42a2-9f71-c7dfde485cd6.png)\n",
    "Correct Answer: \"ilercom\"\n",
    "\n",
    "36)\n",
    "![image](https://user-images.githubusercontent.com/89219486/200759829-c217dfd5-22bf-4687-ae52-66589b3ee066.png)\n",
    "Correct Answer: 8, 9, 11"
   ]
  }
 ],
 "metadata": {
  "kernelspec": {
   "display_name": "Python 3.8.10 64-bit",
   "language": "python",
   "name": "python3"
  },
  "language_info": {
   "name": "python",
   "version": "3.8.10"
  },
  "orig_nbformat": 4,
  "vscode": {
   "interpreter": {
    "hash": "916dbcbb3f70747c44a77c7bcd40155683ae19c65e1c03b4aa3499c5328201f1"
   }
  }
 },
 "nbformat": 4,
 "nbformat_minor": 2
}
