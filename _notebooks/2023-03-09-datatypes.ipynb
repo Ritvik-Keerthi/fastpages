{
 "cells": [
  {
   "cell_type": "code",
   "execution_count": 2,
   "metadata": {},
   "outputs": [
    {
     "name": "stdout",
     "output_type": "stream",
     "text": [
      "10\n",
      "3.14159\n",
      "true\n",
      "a\n",
      "World!\n",
      "7\n"
     ]
    }
   ],
   "source": [
    "import java.util.Random;\n",
    "\n",
    "public class PrimitiveTypesExample {\n",
    "    public static void main(String[] args) {\n",
    "        // int\n",
    "        int myInt = 10;\n",
    "        System.out.println(myInt); // output: 10\n",
    "        \n",
    "        // double\n",
    "        double myDouble = 3.14159;\n",
    "        System.out.println(myDouble); // output: 3.14159\n",
    "        \n",
    "        // boolean\n",
    "        boolean myBoolean = true;\n",
    "        System.out.println(myBoolean); // output: true\n",
    "        \n",
    "        // char\n",
    "        char myChar = 'a';\n",
    "        System.out.println(myChar); // output: a\n",
    "        \n",
    "        // Using substring method\n",
    "        String myString = \"Hello, World!\";\n",
    "        String mySubstring = myString.substring(7);\n",
    "        System.out.println(mySubstring); // output: World!\n",
    "        \n",
    "        // Using random method\n",
    "        Random rand = new Random();\n",
    "        int randomNum = rand.nextInt(10);\n",
    "        System.out.println(randomNum); // output: a random integer between 0 and 9\n",
    "    }\n",
    "}\n",
    "\n",
    "PrimitiveTypesExample.main(null);"
   ]
  }
 ],
 "metadata": {
  "kernelspec": {
   "display_name": "Java",
   "language": "java",
   "name": "java"
  },
  "language_info": {
   "codemirror_mode": "java",
   "file_extension": ".jshell",
   "mimetype": "text/x-java-source",
   "name": "java",
   "pygments_lexer": "java",
   "version": "17.0.5+8-Ubuntu-2ubuntu120.04"
  },
  "orig_nbformat": 4
 },
 "nbformat": 4,
 "nbformat_minor": 2
}
