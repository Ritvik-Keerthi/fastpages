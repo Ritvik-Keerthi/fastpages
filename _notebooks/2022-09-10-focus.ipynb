{
 "cells": [
  {
   "cell_type": "markdown",
   "metadata": {},
   "source": [
    "# Focus/Habits Blog\n",
    "> A neat blog containing information regarding goals in my personal life, as well as how to use \"Psychology and the Good Life\"\n",
    "- toc: true \n",
    "- badges: true\n",
    "- comments: true\n",
    "- categories: [PBL_Learning]\n",
    "- author: Ritvik"
   ]
  },
  {
   "cell_type": "markdown",
   "metadata": {},
   "source": [
    "# Documented a Few Vocabulary Terms:\n",
    "\n",
    "Positive Psychology\n",
    "\n",
    "the branch of psychology that studies human flourishing and happiness\n",
    "\n",
    "\n",
    "The G.I. Joe Fallacy\n",
    "\n",
    "the mistaken idea that knowing is half the battle\n",
    "\n",
    "\n",
    "Nudge\n",
    "\n",
    "a policy that alters people's behavior in a predictable way without forbidding any options or significantly changing their incentives\n",
    "\n",
    "\n",
    "\n",
    "Libertarian Paternalism\n",
    "\n",
    "a police that tries to influence people to choose in a way that will make them better off\n",
    "\n",
    "\n",
    "default option\n",
    "\n",
    "the choice a decision maker gets in a situation (take the easy road and do nothing)\n",
    "\n",
    "\n",
    "Subjective well being\n",
    "\n",
    "a person's self-perceived happiness and life satisfactions. ( a person's cognitive and affective evaluations of his/her/their life).\n",
    "\n",
    "consists of cognitive and affective parts\n",
    "\n",
    "\n",
    "cognitive part\n",
    "\n",
    "life satisfaction: one's evaluation of life as a whole\n",
    "\n",
    "\n",
    "affective evaluation\n",
    "\n",
    "positive emotions + negative emotions\n",
    "\n",
    "\n",
    "Self- report\n",
    "\n",
    "an empirical method that involves just asking participants about their feelings, attitudes, beliefs, etc\n",
    "\n",
    "heritability\n",
    "\n",
    "the proportion of variance on a given trait that is due to genetics"
   ]
  },
  {
   "cell_type": "markdown",
   "metadata": {},
   "source": [
    "# Goals in My Life\n",
    "- Try to achieve good grades, to give yourself the best chance of being admitted to an elite college that is known for it's computer science programs; leading to ease in landing a job. \n",
    "- Try to strive for happiness; do things that make you happy; stay with sports (basketball & football)\n",
    "- Keep my family proud (self-explanatory)"
   ]
  }
 ],
 "metadata": {
  "kernelspec": {
   "display_name": "Python 3.8.10 64-bit",
   "language": "python",
   "name": "python3"
  },
  "language_info": {
   "name": "python",
   "version": "3.8.10"
  },
  "orig_nbformat": 4,
  "vscode": {
   "interpreter": {
    "hash": "916dbcbb3f70747c44a77c7bcd40155683ae19c65e1c03b4aa3499c5328201f1"
   }
  }
 },
 "nbformat": 4,
 "nbformat_minor": 2
}
