{
 "cells": [
  {
   "attachments": {},
   "cell_type": "markdown",
   "metadata": {},
   "source": [
    "# Unit 5 CollegeBoard\n",
    "\n",
    "- toc: true \n",
    "- badges: true\n",
    "- comments: true\n",
    "- categories: [PBL_Learning]"
   ]
  },
  {
   "cell_type": "code",
   "execution_count": null,
   "metadata": {
    "vscode": {
     "languageId": "plaintext"
    }
   },
   "outputs": [],
   "source": []
  },
  {
   "attachments": {},
   "cell_type": "markdown",
   "metadata": {},
   "source": [
    "# 5.6 Writing Methods\n",
    "\n",
    "Format\n",
    "\n",
    "The typical format of a method header is <access modifier> <return type> <method name> (<parameters>).\n",
    "Access modifiers for Java methods can be: public, private, or protected.\n",
    "Return type can be: void, String, boolean, int, double, float, char, etc.\n",
    "Method name can be anything, but usually something descriptive that allows you to infer what the method does.\n",
    "You can have any number of parameters or no parameters.\n",
    "\n",
    "When a member is declared as \"public,\" it can be accessed from anywhere, including from other classes, even if they are in different packages or assemblies. This means that the member is accessible by any code that can access the class that contains the member.\n",
    "\n"
   ]
  },
  {
   "cell_type": "code",
   "execution_count": null,
   "metadata": {
    "vscode": {
     "languageId": "java"
    }
   },
   "outputs": [],
   "source": [
    "class Person {\n",
    "    public int getAge() {\n",
    "        return age;\n",
    "    }\n",
    "    // other class members\n",
    "}\n",
    "\n",
    "class Main {\n",
    "    public static void main(String[] args) {\n",
    "        Person person = new Person();\n",
    "        int age = person.getAge();\n",
    "        // use the age\n",
    "    }\n",
    "}\n",
    "\n",
    "\n",
    "// Examples of method headers:\n",
    "public static void main (String args[])\n",
    "private String sayHello ()\n",
    "protected static int addNums (int a, int b)\n",
    "public void printSum (double a, double b, int c, boolean flag, String text)"
   ]
  },
  {
   "attachments": {},
   "cell_type": "markdown",
   "metadata": {},
   "source": [
    "# 5.7 Static Variables and Methods\n",
    "\n",
    "Static variables and methods are marked by the keyword static, which means that these are properties of the entire class and not just of one particular object.\n",
    "\n",
    "- Static methods cannot access or change the values of instance variables.\n",
    "- Static methods do not have a this reference and cannot use instance variables or call non-static methods.\n",
    "\n"
   ]
  },
  {
   "cell_type": "code",
   "execution_count": null,
   "metadata": {
    "vscode": {
     "languageId": "java"
    }
   },
   "outputs": [],
   "source": [
    "public class College {\n",
    "    // Static variable to store the number of students enrolled in the college\n",
    "    public static int numberOfStudents = 0;\n",
    "\n",
    "    // Static method to enroll a student\n",
    "    public static void enrollStudent() {\n",
    "        numberOfStudents++;\n",
    "    }\n",
    "\n",
    "    public static void main(String[] args) {\n",
    "        // Enroll some students\n",
    "        College.enrollStudent();\n",
    "        College.enrollStudent();\n",
    "        College.enrollStudent();\n",
    "\n",
    "        // Print the number of students enrolled\n",
    "        System.out.println(\"Number of students enrolled: \" + College.numberOfStudents);\n",
    "    }\n",
    "}"
   ]
  },
  {
   "attachments": {},
   "cell_type": "markdown",
   "metadata": {},
   "source": [
    "# 5.8 Scope and Access\n",
    "\n",
    "There are two types of scope: local scope and global scope.\n",
    "\n",
    "Local scope means that a variable can only be used inside a particular method or constructor and not outside. These include our method and constructor parameters and also any variables we declare inside the method or constructor.\n",
    "\n",
    "Global scope means that a variable or method can be used outside that method or constructor and at least throughout that class. These include our instance variables and also the methods that we write for our class. We declare these directly in the class and not inside a method or constructor.\n",
    "\n",
    "If there is a local variable (usually a parameter) and a global variable (usually an instance variable) in the same method with the same name, the local variable takes precedence. \n",
    "\n"
   ]
  },
  {
   "cell_type": "code",
   "execution_count": null,
   "metadata": {
    "vscode": {
     "languageId": "java"
    }
   },
   "outputs": [],
   "source": [
    "public class College {\n",
    "    // Global variable to store the number of students enrolled in the college\n",
    "    public static int numberOfStudents = 0;\n",
    "\n",
    "    public static void main(String[] args) {\n",
    "        // Local variable to store the number of students enrolled in a specific course\n",
    "        int numberOfStudentsInCourse = 10;\n",
    "\n",
    "        // Print both variables\n",
    "        System.out.println(\"Number of students in college: \" + numberOfStudents);\n",
    "        System.out.println(\"Number of students in course: \" + numberOfStudentsInCourse);\n",
    "\n",
    "        // Call a method that uses both variables\n",
    "        enrollStudentsInCourse(5);\n",
    "    }\n",
    "\n",
    "    public static void enrollStudentsInCourse(int numberOfNewStudents) {\n",
    "        // Access global and local variables\n",
    "        System.out.println(\"Number of students in college inside method: \" + numberOfStudents);\n",
    "        int numberOfStudentsInCourse = 15;\n",
    "        System.out.println(\"Number of students in course inside method: \" + numberOfStudentsInCourse);\n",
    "\n",
    "        // Enroll new students in course\n",
    "        numberOfStudentsInCourse += numberOfNewStudents;\n",
    "\n",
    "        // Update global variable\n",
    "        numberOfStudents += numberOfNewStudents;\n",
    "\n",
    "        // Print updated values\n",
    "        System.out.println(\"Number of new students enrolled in course: \" + numberOfNewStudents);\n",
    "        System.out.println(\"Total number of students in course: \" + numberOfStudentsInCourse);\n",
    "        System.out.println(\"Total number of students in college: \" + numberOfStudents);\n",
    "    }\n",
    "}"
   ]
  },
  {
   "attachments": {},
   "cell_type": "markdown",
   "metadata": {},
   "source": [
    "This demonstrates that the global variable has global scope, which means it can be accessed from anywhere in the code, while the local variable has local scope, which means it can only be accessed within the method in which it was defined."
   ]
  },
  {
   "attachments": {},
   "cell_type": "markdown",
   "metadata": {},
   "source": [
    "# 5.9 This Keyword\n",
    "The this keyword is a keyword that essentially refers to the object that is calling the method or the object that the constructor is trying to make. There are three ways to use this:\n",
    "\n",
    "- To refer to an instance variable\n",
    "This will solve the problem of having duplicate variable names. To distinguish the instance and local variables, we use this.variableName for the instance variable and simply variableName for the local variable.\n",
    "\n",
    "- As a parameter\n",
    "Sometimes, we can also use the object as a parameter in its own method call to use itself in the method by using objectName.methodName(this).\n",
    "\n",
    "- As a constructor or method call\n",
    "This will allow us to overload our constructors effectively. Inside the overloaded constructors, we can make a call to the full constructor using this() where the parameters include the default values as well. We can also use this way as a method call to call a method inside a method call as well using this.methodName().\n"
   ]
  },
  {
   "cell_type": "code",
   "execution_count": null,
   "metadata": {
    "vscode": {
     "languageId": "java"
    }
   },
   "outputs": [],
   "source": [
    "public class College {\n",
    "    private String name;\n",
    "\n",
    "    public College(String name) {\n",
    "        this.name = name;\n",
    "    }\n",
    "\n",
    "    public void printName() {\n",
    "        System.out.println(\"College name: \" + this.name);\n",
    "    }\n",
    "\n",
    "    public void setName(String name) {\n",
    "        this.name = name;\n",
    "    }\n",
    "}"
   ]
  }
 ],
 "metadata": {
  "language_info": {
   "name": "python"
  },
  "orig_nbformat": 4
 },
 "nbformat": 4,
 "nbformat_minor": 2
}
