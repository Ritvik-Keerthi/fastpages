{
 "cells": [
  {
   "attachments": {},
   "cell_type": "markdown",
   "metadata": {},
   "source": [
    "# Unit 5 CollegeBoard\n",
    "> Teacher code notes.\n",
    "\n",
    "- toc: true \n",
    "- badges: true\n",
    "- comments: true\n",
    "- categories: [PBL_Learning]"
   ]
  },
  {
   "attachments": {},
   "cell_type": "markdown",
   "metadata": {},
   "source": [
    "Test\n",
    "Anatomy of a class\n",
    "\n",
    "classes and objects have the same relation as blueprints to a house\n",
    "\n",
    "In Java, a class is a blueprint or a template for creating objects which has different  attributes and behaviors. Every Java class has a specific structure or anatomy that includes various components.\n",
    "\n",
    "Here are the different components of a Java class:\n",
    "\n",
    "\n",
    "Class declaration: Every Java class begins with the declaration of the class name, which should be unique within the package. The syntax for declaring a class is as follows:\n",
    "\n"
   ]
  },
  {
   "cell_type": "code",
   "execution_count": null,
   "metadata": {
    "vscode": {
     "languageId": "java"
    }
   },
   "outputs": [],
   "source": [
    "public class ClassName {\n",
    "    // Class body\n",
    "}\n"
   ]
  },
  {
   "attachments": {},
   "cell_type": "markdown",
   "metadata": {},
   "source": [
    "Class body: The class body is enclosed in braces {} and contains various components that define the behavior and attributes of the class. The class body consists of the following components:\n",
    "\n",
    "a. Fields or Instance Variables: Fields are variables that store the state or data of the object, this was covered in unit 2. They can be initialized at the time of declaration or in the constructor. Fields can be of any primitive(int) or reference type(Strings). They are a essential component of a class"
   ]
  },
  {
   "cell_type": "code",
   "execution_count": 1,
   "metadata": {
    "vscode": {
     "languageId": "java"
    }
   },
   "outputs": [],
   "source": [
    "public class Person {\n",
    "    String name;\n",
    "    int age;\n",
    "    double height;\n",
    "    String Race;\n",
    "}\n",
    "\n"
   ]
  },
  {
   "attachments": {},
   "cell_type": "markdown",
   "metadata": {},
   "source": [
    "Methods: Methods are functions that define the behavior of the object. They can be used to perform certain actions or return a value. Methods can take arguments and can be overloaded, which means there can be multiple methods with the same name but different parameter types. Here's an example:"
   ]
  },
  {
   "cell_type": "code",
   "execution_count": null,
   "metadata": {
    "vscode": {
     "languageId": "java"
    }
   },
   "outputs": [],
   "source": [
    "public class Calculator {\n",
    "    public int add(int a, int b) {\n",
    "        return a + b;\n",
    "    }\n",
    "    \n",
    "    public double add(double a, double b) {\n",
    "        return a + b;\n",
    "    }\n",
    "}\n"
   ]
  },
  {
   "attachments": {},
   "cell_type": "markdown",
   "metadata": {},
   "source": [
    "Constructors are special methods that are used to initialize the state of the object. They have the same name as the class and do not have a return type, by initializing the state of a object the constructor is essentially establishing the field variables\n",
    "\n",
    " Here's an example:"
   ]
  },
  {
   "cell_type": "code",
   "execution_count": null,
   "metadata": {
    "vscode": {
     "languageId": "java"
    }
   },
   "outputs": [],
   "source": [
    "public class Person {\n",
    "    String name;\n",
    "    int age;\n",
    "    \n",
    "    public Person(String name, int age) {\n",
    "        this.name = name;\n",
    "        this.age = age;\n",
    "    }\n",
    "}\n"
   ]
  },
  {
   "attachments": {},
   "cell_type": "markdown",
   "metadata": {},
   "source": [
    "Not it is important to understand that any field variables, methods, or constructers listed as public is accesible outside the class whereas when it is listed private it is only accesible within the class"
   ]
  },
  {
   "cell_type": "code",
   "execution_count": null,
   "metadata": {
    "vscode": {
     "languageId": "java"
    }
   },
   "outputs": [],
   "source": [
    "public class MyClass {\n",
    "    // This variable can be accessed from anywhere.\n",
    "    public int publicVar;\n",
    "\n",
    "    // This variable can only be accessed from within this class.\n",
    "    private int privateVar;\n",
    "\n",
    "    // This method can be accessed from anywhere.\n",
    "    public void publicMethod() {\n",
    "        System.out.println(\"This is a public method.\");\n",
    "    }\n",
    "\n",
    "    // This method can only be accessed from within this class.\n",
    "    private void privateMethod() {\n",
    "        System.out.println(\"This is a private method.\");\n",
    "    }\n",
    "}\n"
   ]
  },
  {
   "attachments": {},
   "cell_type": "markdown",
   "metadata": {},
   "source": [
    "-Now generally classes are always made public because it needs to be used \n",
    "\n",
    "-fields are usually private so that it cannot be tampared with outside the class,\n",
    "\n",
    "\n",
    "- most methods are going to be public but there will be scenarios where you want to make it private, \n",
    "\n",
    "-Constructers need to be public because when creating an object you need to make it public"
   ]
  },
  {
   "attachments": {},
   "cell_type": "markdown",
   "metadata": {},
   "source": [
    "\n",
    "Inheritance is a way to create new classes based on existing classes. The new class inherits the fields and methods of the existing class, and can also add new fields and methods of its own. In Java, inheritance is implemented using the extends keyword."
   ]
  },
  {
   "cell_type": "code",
   "execution_count": 2,
   "metadata": {
    "vscode": {
     "languageId": "java"
    }
   },
   "outputs": [],
   "source": [
    "public class Animal {\n",
    "    private String name;\n",
    "\n",
    "    public Animal(String name) {\n",
    "        this.name = name;\n",
    "    }\n",
    "\n",
    "    public String getName() {\n",
    "        return name;\n",
    "    }\n",
    "\n",
    "    public void speak() {\n",
    "        System.out.println(\"I am an animal.\");\n",
    "    }\n",
    "}\n",
    "\n",
    "public class Dog extends Animal {\n",
    "    public Dog(String name) {\n",
    "        super(name);\n",
    "    }\n",
    "\n",
    "    public void bark() {\n",
    "        System.out.println(\"Woof!\");\n",
    "    }\n",
    "}\n"
   ]
  },
  {
   "attachments": {},
   "cell_type": "markdown",
   "metadata": {},
   "source": [
    "In this example, the Dog class extends the Animal class. The Dog class inherits the name field and the speak() method from the Animal class, and also adds its own bark() method."
   ]
  },
  {
   "attachments": {},
   "cell_type": "markdown",
   "metadata": {},
   "source": [
    "Polymorphism refers to the ability of objects of different classes to be used interchangeably. This is possible because of inheritance, where a subclass can be used in place of its superclass. Polymorphism is implemented in Java using method overriding and method overloading.\n",
    "\n"
   ]
  },
  {
   "cell_type": "code",
   "execution_count": null,
   "metadata": {
    "vscode": {
     "languageId": "java"
    }
   },
   "outputs": [],
   "source": [
    "public class Animal {\n",
    "    public void speak() {\n",
    "        System.out.println(\"I am an animal.\");\n",
    "    }\n",
    "}\n",
    "\n",
    "public class Dog extends Animal {\n",
    "    @Override\n",
    "    public void speak() {\n",
    "        System.out.println(\"Woof!\");\n",
    "    }\n",
    "\n",
    "    public void speak(int times) {\n",
    "        for (int i = 0; i < times; i++) {\n",
    "            System.out.println(\"Woof!\");\n",
    "        }\n",
    "    }\n",
    "}\n"
   ]
  },
  {
   "attachments": {},
   "cell_type": "markdown",
   "metadata": {},
   "source": [
    "In this example, the Animal class has a speak() method that prints \"I am an animal.\" The Dog class overrides this method with its own implementation that prints \"Woof!\" When we call speak() on a Dog object, the Dog class's implementation of speak() is called.\n",
    "\n",
    "The Dog class also has a speak(int times) method that overloads the speak() method. This method takes an integer parameter times and prints \"Woof!\" that many times. When we call speak(3) on a Dog object, the Dog class's implementation of speak(int times) is called.\n",
    "\n"
   ]
  },
  {
   "attachments": {},
   "cell_type": "markdown",
   "metadata": {},
   "source": [
    "HACKS:\n",
    "\n",
    "Exercise 1:\n",
    "Create a Rectangle class with width and height fields, and getArea() and getPerimeter() methods. Then create a Square class that extends the Rectangle class and has a sideLength field.\n",
    "\n",
    "Exercise 2:\n",
    "Create a Person class with firstName and lastName fields, and a getFullName() method. Then create a Student class that extends the Person class and has a major field and a getMajor() method.\n",
    "\n",
    "Exercise 3:\n",
    "Create an Animal class with a speak() method that prints \"I am an animal.\" Then create a Cat class and a Dog class that extend the Animal class and"
   ]
  }
 ],
 "metadata": {
  "kernelspec": {
   "display_name": "Java",
   "language": "java",
   "name": "java"
  },
  "language_info": {
   "codemirror_mode": "java",
   "file_extension": ".jshell",
   "mimetype": "text/x-java-source",
   "name": "Java",
   "pygments_lexer": "java",
   "version": "18.0.2.1+1-1"
  },
  "orig_nbformat": 4
 },
 "nbformat": 4,
 "nbformat_minor": 2
}
